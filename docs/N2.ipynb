{
 "cells": [
  {
   "cell_type": "markdown",
   "metadata": {},
   "source": [
    "# Tutorial: how to use quket in the interactive mode"
   ]
  },
  {
   "cell_type": "code",
   "execution_count": null,
   "metadata": {},
   "outputs": [],
   "source": [
    "# import necessary modules\n",
    "import quket\n",
    "from quket.utils import *\n",
    "import quket.config as cf"
   ]
  },
  {
   "cell_type": "code",
   "execution_count": null,
   "metadata": {},
   "outputs": [],
   "source": [
    "### Create QuketData for N2 ###\n",
    "Q = quket.create(basis=\"sto-6g\", \n",
    "                 ansatz=\"sauccsd\", \n",
    "                 n_orbitals =6, \n",
    "                 n_electrons=6, \n",
    "                 geometry = [['N', (0,0,0)], ['N', (0,0,1.098)]], \n",
    "                )"
   ]
  },
  {
   "cell_type": "code",
   "execution_count": null,
   "metadata": {},
   "outputs": [],
   "source": [
    "# Run UCCSD\n",
    "Q.run()"
   ]
  },
  {
   "cell_type": "code",
   "execution_count": null,
   "metadata": {},
   "outputs": [],
   "source": [
    "# UCCSD energy (Q.state)\n",
    "Q.get_E()"
   ]
  },
  {
   "cell_type": "code",
   "execution_count": null,
   "metadata": {},
   "outputs": [],
   "source": [
    "# Hartree-Fock energy (init_state = HF)\n",
    "Q.get_E(Q.init_state)"
   ]
  },
  {
   "cell_type": "code",
   "execution_count": null,
   "metadata": {},
   "outputs": [],
   "source": [
    "# Get FCI qubit state\n",
    "Q.fci2qubit()\n",
    "\n",
    "# Get fidelity of UCCSD (not exact, so not exactly 1)\n",
    "print('Fidelity = ', Q.fidelity())"
   ]
  },
  {
   "cell_type": "code",
   "execution_count": null,
   "metadata": {},
   "outputs": [],
   "source": [
    "### Compute UCCSD 1RDM\n",
    "Q.get_1RDM()\n",
    "### Now have DA, DB, etc."
   ]
  },
  {
   "cell_type": "code",
   "execution_count": null,
   "metadata": {},
   "outputs": [],
   "source": [
    "# Can use printmat() imported from src.utils \n",
    "quket.printmat(Q.DA)"
   ]
  },
  {
   "cell_type": "code",
   "execution_count": null,
   "metadata": {},
   "outputs": [],
   "source": [
    "# Can change the method or ansatz\n",
    "# Run Classical Imaginary-Time Evolution (CITE) by overwriting QuketData\n",
    "Q.method = \"qite\"  # Use QITE_solver \n",
    "Q.ansatz = \"cite\"  # Use CITE \n",
    "Q.dt = 0.1         # Use time-step 0.1\n",
    "Q.run()"
   ]
  },
  {
   "cell_type": "code",
   "execution_count": null,
   "metadata": {},
   "outputs": [],
   "source": [
    "# Get fidelity of ITE (should be exact, so exaclty 1)\n",
    "print('Fidelity = ', Q.fidelity())"
   ]
  },
  {
   "cell_type": "code",
   "execution_count": null,
   "metadata": {},
   "outputs": [],
   "source": [
    "# Copy\n",
    "X = Q.copy()"
   ]
  },
  {
   "cell_type": "code",
   "execution_count": null,
   "metadata": {},
   "outputs": [],
   "source": [
    "# Successfuly copied, but the memory addresses are different\n",
    "print(X.pauli_list == Q.pauli_list)\n",
    "print(id(X.pauli_list) == id(Q.pauli_list))"
   ]
  },
  {
   "cell_type": "code",
   "execution_count": null,
   "metadata": {},
   "outputs": [],
   "source": [
    "# Orbital optimization in UCCD\n",
    "Q.method = 'vqe'\n",
    "Q.ansatz = 'uccd'\n",
    "# Define pauli_list for uccd (and taper-off qubits)\n",
    "Q.get_pauli_list()\n",
    "Q.taper_off()\n",
    "\n",
    "# Orbital-optimization\n",
    "Q.oo()"
   ]
  },
  {
   "cell_type": "code",
   "execution_count": null,
   "metadata": {},
   "outputs": [],
   "source": []
  }
 ],
 "metadata": {
  "kernelspec": {
   "display_name": "Python 3",
   "language": "python",
   "name": "python3"
  },
  "language_info": {
   "codemirror_mode": {
    "name": "ipython",
    "version": 3
   },
   "file_extension": ".py",
   "mimetype": "text/x-python",
   "name": "python",
   "nbconvert_exporter": "python",
   "pygments_lexer": "ipython3",
   "version": "3.8.5"
  }
 },
 "nbformat": 4,
 "nbformat_minor": 4
}
