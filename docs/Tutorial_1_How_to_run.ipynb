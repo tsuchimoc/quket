{
 "cells": [
  {
   "cell_type": "markdown",
   "metadata": {},
   "source": [
    "# Tutorial (1): How to run quket\n",
    "\n",
    "Here we show how to run Quket using an example of UCCSD VQE applied to N$_2$/STO-6G."
   ]
  },
  {
   "cell_type": "markdown",
   "metadata": {},
   "source": [
    "[(1) Preparation](#(1)-Preparation)  \n",
    "&nbsp;&nbsp;&nbsp;&nbsp;&nbsp;&nbsp;[(1.1) `create()` to prepare the simulation](#(1.1)-Use-create()-to-prepare-the-simulation)<br>\n",
    "&nbsp;&nbsp;&nbsp;&nbsp;&nbsp;&nbsp;[(1.2) `print_mo_energy()` to print out orbital energies](#(1.2)-Use-print_mo_energy()-to-find-out-what-orbitals-are-actually-used-in-the-simulation)<br>\n",
    "&nbsp;&nbsp;&nbsp;&nbsp;&nbsp;&nbsp;[(1.3) `fci2qubit()` to get FCI state(s)](#(1.3)-Use-fci2qubit()-to-get-FCI-state(s)-in-the-qubit-representation)  \n",
    "&nbsp;&nbsp;&nbsp;&nbsp;&nbsp;&nbsp;[(1.4) Pauli list for variational circuit](#(1.4)-Pauli-list-for-variational-circuit)  \n",
    "&nbsp;&nbsp;&nbsp;&nbsp;&nbsp;&nbsp;[(1.5) `print_state()` to check the quantum states](#(1.5)-print_state()-to-check-the-quantum-states)  \n",
    "\n",
    "[(2) Calculation](#(2)-Calculation)  \n",
    "&nbsp;&nbsp;&nbsp;&nbsp;&nbsp;&nbsp;[(2.1) `run()` to perform calculation](#(2.1)-Use-run()-to-perform-calculation)  \n",
    "&nbsp;&nbsp;&nbsp;&nbsp;&nbsp;&nbsp;[(2.2) Converged variational parameters](#(2.2)-Converged-variational-parameters)  \n",
    "&nbsp;&nbsp;&nbsp;&nbsp;&nbsp;&nbsp;[(2.3) `fidelity()` to check the converged UCCSD state](#(2.3)-fidelity()-to-check-the-converged-UCCSD-state)  \n",
    "&nbsp;&nbsp;&nbsp;&nbsp;&nbsp;&nbsp;[(2.4) `vqe()` is an alternative to `run()` for VQE](#(2.4)-vqe()-is-an-alternative-to-run()-for-VQE)  \n",
    "\n",
    "[(3) Further functionalities of `QuketData`](#(3)-Further-functionalities-of-QuketData)  \n",
    "&nbsp;&nbsp;&nbsp;&nbsp;&nbsp;&nbsp;[(3.1) `print_state()`](#(3.1)-print_state())  \n",
    "&nbsp;&nbsp;&nbsp;&nbsp;&nbsp;&nbsp;[(3.2) `get_E()`](#(3.2)-get_E())  \n",
    "&nbsp;&nbsp;&nbsp;&nbsp;&nbsp;&nbsp;[(3.3) `get_S2()` and `get_N()`](#(3.3)-get_S2()-and-get_N())  \n",
    "&nbsp;&nbsp;&nbsp;&nbsp;&nbsp;&nbsp;[(3.4) `get_1RDM()`](#(3.4)-get_1RDM())  \n",
    "&nbsp;&nbsp;&nbsp;&nbsp;&nbsp;&nbsp;[(3.5) `save()`, `load()`, `copy()`](#(3.5)-save(),-load(),-copy())  \n",
    "&nbsp;&nbsp;&nbsp;&nbsp;&nbsp;&nbsp;[(3.6) `set()` and `initialize()`](#(3.6)-set()-and-initialize())\n",
    "\n",
    "\n",
    "\n"
   ]
  },
  {
   "cell_type": "markdown",
   "metadata": {},
   "source": [
    "## (1) Preparation"
   ]
  },
  {
   "cell_type": "code",
   "execution_count": 1,
   "metadata": {},
   "outputs": [
    {
     "name": "stdout",
     "output_type": "stream",
     "text": [
      "mpi4py is not imported. no MPI.\n"
     ]
    }
   ],
   "source": [
    "# import necessary modules\n",
    "from quket import *\n",
    "from quket.utils import *\n",
    "import quket.config as cf\n"
   ]
  },
  {
   "cell_type": "markdown",
   "metadata": {},
   "source": [
    "### (1.1) Use `create()` to prepare the simulation\n",
    "For molecular systems, important arguments are  \n",
    "`basis`: Basis set (e.g., sto-6g)  \n",
    "`n_electrons`: Number of active electrons to be considered in the simulation (e.g., 6)  \n",
    "`n_orbitals`: Number of active orbitals to be mapped onto qubits. Orbital indices are automatically determined based on Hartree Fock configuration and `n_electrons`.  \n",
    "`geometry`: Molecular geometry can be set either by PySCF format, cartesian format, or z-matrix format,\n",
    "```python\n",
    "    geometry = [['N', (0, 0, 0)], ['N', (0, 0, 1.098)]]\n",
    "    geometry = \"N 0 0 0\\n N 0 0 1.098\" \n",
    "    geometry = \"N; N 1 1.098\"\n",
    "```\n",
    "where `;` and `\\n` are used to indicate a break.  \n",
    "\n",
    "For VQE and other ansatz-based algorithms, `ansatz` is required. Here, we use `sauccsd` (spin-adapted uccsd). The list of currently available ansatze is found by \n",
    "```python\n",
    "cf.vqe_ansatz_list\n",
    "```\n",
    "Methods available in the currrent Quket is also found by\n",
    "```python\n",
    "cf.method_list\n",
    "```\n",
    "for which the default is VQE, so we can skip specifying `method` in the following example."
   ]
  },
  {
   "cell_type": "code",
   "execution_count": 2,
   "metadata": {},
   "outputs": [
    {
     "name": "stdout",
     "output_type": "stream",
     "text": [
      "Basis set = sto-6g\n",
      "\n",
      "*** Geometry ******************************\n",
      "  N     0.0000000    0.0000000    0.0000000\n",
      "  N     1.0980000    0.0000000    0.0000000\n",
      "*******************************************\n",
      "\n",
      "Symmetry Dooh : D2h(Abelian)\n",
      "E[FCI]    = -108.669172966971     (Spin = 1   Ms = 0)\n",
      "E[HF]     = -108.541914960860     (Spin = 1   Ms = 0)\n"
     ]
    },
    {
     "name": "stderr",
     "output_type": "stream",
     "text": [
      "Overwritten attributes  contract_2e  of <class 'pyscf.fci.direct_spin1_symm.FCISolver'>\n"
     ]
    },
    {
     "name": "stdout",
     "output_type": "stream",
     "text": [
      "NBasis = 10\n"
     ]
    }
   ],
   "source": [
    "### Create QuketData for N2 ###\n",
    "Q = create(basis=\"sto-6g\", \n",
    "                 ansatz=\"sauccsd\", \n",
    "                 n_orbitals =6, \n",
    "                 n_electrons=6, \n",
    "                 geometry = \"N; N 1 1.098\", \n",
    "                 mapping = 'bk'\n",
    "                )"
   ]
  },
  {
   "cell_type": "markdown",
   "metadata": {},
   "source": [
    "#### If necessary arguments are provided, `create()` sets everything up in order to perform the calculation.\n",
    "A brief summary can be printed."
   ]
  },
  {
   "cell_type": "code",
   "execution_count": 3,
   "metadata": {},
   "outputs": [
    {
     "name": "stdout",
     "output_type": "stream",
     "text": [
      "\n",
      "*** Geometry ******************************\n",
      "  N     0.0000000    0.0000000    0.0000000\n",
      "  N     1.0980000    0.0000000    0.0000000\n",
      "*******************************************\n",
      "\n",
      "Basis        = sto-6g\n",
      "NBasis       = 10\n",
      "Ne           = 6\n",
      "Norbs        = 6\n",
      "Multiplicity = 1\n",
      "Method       = vqe\n",
      "Ansatz       = sauccsd\n",
      "Mapping      = bravyi_kitaev\n",
      "Nqubits      = 12\n",
      "Energy       = 0.0\n",
      "Converged    = False\n",
      "Derivative   = Analytical (Exact)\n",
      "\n"
     ]
    }
   ],
   "source": [
    "print(Q)"
   ]
  },
  {
   "cell_type": "markdown",
   "metadata": {},
   "source": [
    "`create()` also generates `pauli_list` and `theta_list`.  \n",
    "`pauli_list`: List of `QubitOperator`s that will be used to form a quantum circuit, parameterized by `theta_list`, which is initially zero.   \n",
    "The length of `pauli_list` should match that of `theta_list`. "
   ]
  },
  {
   "cell_type": "code",
   "execution_count": 4,
   "metadata": {},
   "outputs": [
    {
     "data": {
      "text/plain": [
       "True"
      ]
     },
     "execution_count": 4,
     "metadata": {},
     "output_type": "execute_result"
    }
   ],
   "source": [
    "len(Q.pauli_list) == len(Q.theta_list)"
   ]
  },
  {
   "cell_type": "markdown",
   "metadata": {},
   "source": [
    "### (1.2) Use `print_mo_energy()` to find out what orbitals are actually used in the simulation"
   ]
  },
  {
   "cell_type": "code",
   "execution_count": 5,
   "metadata": {},
   "outputs": [
    {
     "name": "stdout",
     "output_type": "stream",
     "text": [
      "\n",
      "[Molecular Orbitals]\n",
      "---+-------+------------+------------------\n",
      " # |  Sym  |   energy   |     category\n",
      "---+-------+------------+------------------\n",
      " 0 |   Ag  |   -15.7220 | Frozen Core\n",
      " 1 |  B1u  |   -15.7197 | Frozen Core\n",
      " 2 |   Ag  |    -1.4497 | Frozen Core\n",
      " 3 |  B1u  |    -0.7317 | Frozen Core\n",
      " 4 |  B2u  |    -0.5775 | Active (occupied)\n",
      " 5 |  B3u  |    -0.5775 | Active (occupied)\n",
      " 6 |   Ag  |    -0.5441 | Active (occupied)\n",
      " 7 |  B2g  |     0.2707 | Active (virtual)\n",
      " 8 |  B3g  |     0.2707 | Active (virtual)\n",
      " 9 |  B1u  |     1.0924 | Active (virtual)\n",
      "---+-------+------------+------------------\n",
      "\n"
     ]
    }
   ],
   "source": [
    "Q.print_mo_energy()"
   ]
  },
  {
   "cell_type": "markdown",
   "metadata": {},
   "source": [
    "### (1.3) Use `fci2qubit()` to get FCI state(s) in the qubit representation\n",
    "Note this is slow compared to the sophisticated FCI algorithm implemented in PySCF.  \n",
    "Setting `nroots` in `create(nroots=***)` can yield excited states."
   ]
  },
  {
   "cell_type": "code",
   "execution_count": 6,
   "metadata": {},
   "outputs": [
    {
     "name": "stdout",
     "output_type": "stream",
     "text": [
      "FCI in Qubits\n",
      "(FCI state : E = -108.66917296739175)\n",
      "      Basis              Coef\n",
      "| 000000010101 > : +0.9614 +0.0000i\n",
      "| 000001010001 > : -0.1383 +0.0000i\n",
      "| 000100010100 > : -0.1383 +0.0000i\n",
      "\n"
     ]
    }
   ],
   "source": [
    "Q.fci2qubit()"
   ]
  },
  {
   "cell_type": "markdown",
   "metadata": {},
   "source": [
    "### (1.4) Pauli list for variational circuit\n",
    "To see the corresponding pauli strings that are used to generate the variational circuit, you may check \n",
    "```python\n",
    "    Q.pauli_list\n",
    "```\n",
    "For spin-adapted ansatze, some paulis $P_j, P_{j}', \\cdots$ should have the same theta although these paulis. If they commute, we can simply add them to treat simultaneously, $P_j \\leftarrow P_j+P_{j}'+\\cdots$. However, if some of them do not commute with each other, the corresponding element of `pauli_list` is itself a list of paulis, [$P_j, P_j'$]."
   ]
  },
  {
   "cell_type": "code",
   "execution_count": 7,
   "metadata": {},
   "outputs": [
    {
     "data": {
      "text/plain": [
       "-0.25j [X0 Z1 Z3 Z5 Y6 Z7] +\n",
       "-0.25j [X0 Z1 Y6] +\n",
       "-0.25j [X0 Z3 Z5 Y6 Z7] +\n",
       "-0.25j [X0 Y6] +\n",
       "0.25j [Y0 Z1 Z3 Z5 X6 Z7] +\n",
       "0.25j [Y0 Z1 X6] +\n",
       "0.25j [Y0 Z3 Z5 X6 Z7] +\n",
       "0.25j [Y0 X6]"
      ]
     },
     "execution_count": 7,
     "metadata": {},
     "output_type": "execute_result"
    }
   ],
   "source": [
    "### 0th pauli is a sum of paulis (double excitation from 0,1 to 6,7) because they all commute\n",
    "Q.pauli_list[0]"
   ]
  },
  {
   "cell_type": "code",
   "execution_count": 8,
   "metadata": {},
   "outputs": [
    {
     "data": {
      "text/plain": [
       "[0.125j [X0 Y1 X2 Z3 Z5 X6 Y7 Y8 X9 X11] +\n",
       " 0.125j [X0 Y1 X2 Z3 Z5 Y6 Y7 X8 X9 X11] +\n",
       " -0.125j [X0 Y1 Y2 Z3 Z5 X6 Y7 X8 X9 X11] +\n",
       " 0.125j [X0 Y1 Y2 Z3 Z5 Y6 Y7 Y8 X9 X11] +\n",
       " -0.125j [Y0 Y1 X2 Z3 Z5 X6 Y7 X8 X9 X11] +\n",
       " 0.125j [Y0 Y1 X2 Z3 Z5 Y6 Y7 Y8 X9 X11] +\n",
       " -0.125j [Y0 Y1 Y2 Z3 Z5 X6 Y7 Y8 X9 X11] +\n",
       " -0.125j [Y0 Y1 Y2 Z3 Z5 Y6 Y7 X8 X9 X11] +\n",
       " 0.125j [Z0 X1 Z3 X7 Y9 X11] +\n",
       " 0.125j [Z0 X1 Z5 Z6 Y7 Z8 X9 X11] +\n",
       " 0.125j [Z0 Y1 Z2 Z3 Z5 Z6 Y7 Y9 X11] +\n",
       " -0.125j [Z0 Y1 Z2 X7 Z8 X9 X11] +\n",
       " 0.125j [X1 Z2 Z3 Z5 Z6 Y7 Z8 X9 X11] +\n",
       " 0.125j [X1 Z2 X7 Y9 X11] +\n",
       " -0.125j [Y1 Z3 X7 Z8 X9 X11] +\n",
       " 0.125j [Y1 Z5 Z6 Y7 Y9 X11],\n",
       " 0.125j [X0 X1 Z3 X7 Y8 X9 X11] +\n",
       " 0.125j [X0 X1 Z5 Z6 Y7 X8 X9 X11] +\n",
       " 0.125j [X0 Y1 Z2 Z3 Z5 Z6 Y7 Y8 X9 X11] +\n",
       " -0.125j [X0 Y1 Z2 X7 X8 X9 X11] +\n",
       " -0.125j [Y0 X1 Z3 X7 X8 X9 X11] +\n",
       " 0.125j [Y0 X1 Z5 Z6 Y7 Y8 X9 X11] +\n",
       " -0.125j [Y0 Y1 Z2 Z3 Z5 Z6 Y7 X8 X9 X11] +\n",
       " -0.125j [Y0 Y1 Z2 X7 Y8 X9 X11] +\n",
       " 0.125j [Z0 Y1 X2 Z3 Z5 X6 Y7 Y9 X11] +\n",
       " 0.125j [Z0 Y1 X2 Z3 Z5 Y6 Y7 Z8 X9 X11] +\n",
       " -0.125j [Z0 Y1 Y2 Z3 Z5 X6 Y7 Z8 X9 X11] +\n",
       " 0.125j [Z0 Y1 Y2 Z3 Z5 Y6 Y7 Y9 X11] +\n",
       " 0.125j [X1 X2 Z3 Z5 X6 Y7 Z8 X9 X11] +\n",
       " -0.125j [X1 X2 Z3 Z5 Y6 Y7 Y9 X11] +\n",
       " 0.125j [X1 Y2 Z3 Z5 X6 Y7 Y9 X11] +\n",
       " 0.125j [X1 Y2 Z3 Z5 Y6 Y7 Z8 X9 X11]]"
      ]
     },
     "execution_count": 8,
     "metadata": {},
     "output_type": "execute_result"
    }
   ],
   "source": [
    "### 7th pauli is a list of paulis because some of them do not commute\n",
    "Q.pauli_list[7]"
   ]
  },
  {
   "cell_type": "markdown",
   "metadata": {},
   "source": [
    "### (1.5) `print_state()` to check the quantum states\n",
    "Attributes `init_state`, `state`, and `fci_states` contain the initial, current (final), and FCI states in the form of `qulacs`'s `QuantumState`.\n",
    "\n",
    "Use `print_state()` to print them."
   ]
  },
  {
   "cell_type": "code",
   "execution_count": 9,
   "metadata": {},
   "outputs": [
    {
     "name": "stdout",
     "output_type": "stream",
     "text": [
      "initial HF state\n",
      "      Basis              Coef\n",
      "| 000000010101 > : +1.0000 +0.0000i\n",
      "\n",
      "current state\n",
      "      Basis              Coef\n",
      "| 000000010101 > : +1.0000 +0.0000i\n",
      "\n",
      "fci exact state\n",
      "      Basis              Coef\n",
      "| 000000010101 > : +0.9614 +0.0000i\n",
      "| 000001010001 > : -0.1383 +0.0000i\n",
      "| 000100010100 > : -0.1383 +0.0000i\n",
      "\n"
     ]
    }
   ],
   "source": [
    "print_state(Q.init_state, name=\"initial HF state\")\n",
    "print_state(Q.state, name=\"current state\")\n",
    "print_state(Q.fci_states[0]['state'], name=\"fci exact state\")"
   ]
  },
  {
   "cell_type": "markdown",
   "metadata": {},
   "source": [
    "## (2) Calculation"
   ]
  },
  {
   "cell_type": "markdown",
   "metadata": {},
   "source": [
    "### (2.1) Use `run()` to perform calculation \n",
    "It will run the method specified with the `method` attribute.  \n",
    "If `fci2qubit()` has been performed, VQE runs `fidelity()` at each cycle to show the fidelity."
   ]
  },
  {
   "cell_type": "code",
   "execution_count": 10,
   "metadata": {},
   "outputs": [
    {
     "name": "stdout",
     "output_type": "stream",
     "text": [
      "Entered VQE driver\n",
      "Performing VQE for sauccsd\n",
      "Number of VQE parameters: 54\n",
      "Initial configuration: |000000111111>\n",
      "Convergence criteria: ftol = 1E-09, gtol = 1E-05\n",
      "Derivatives: Analytical\n",
      "Circuit order: Exp[T1] Exp[T2] |0>\n",
      "Initial: E[sauccsd] = -108.541914960860  <S**2> = +0.000000  Fidelity = 0.924342  rho = 1  \n",
      "      1: E[sauccsd] = -108.646352933729  <S**2> = +0.000001  Fidelity = 0.976126  Grad = 6.26e-01  CPU Time =    0.67721  (0.01 / step)\n",
      "      2: E[sauccsd] = -108.659301110535  <S**2> = +0.000002  Fidelity = 0.987588  Grad = 3.20e-01  CPU Time =    0.24375  (0.01 / step)\n",
      "      3: E[sauccsd] = -108.666470234985  <S**2> = +0.000003  Fidelity = 0.996814  Grad = 1.46e-01  CPU Time =    0.23943  (0.01 / step)\n",
      "      4: E[sauccsd] = -108.668164908414  <S**2> = +0.000004  Fidelity = 0.999153  Grad = 7.34e-02  CPU Time =    0.24758  (0.01 / step)\n",
      "      5: E[sauccsd] = -108.668556521107  <S**2> = +0.000007  Fidelity = 0.999681  Grad = 7.11e-02  CPU Time =    0.24175  (0.01 / step)\n",
      "      6: E[sauccsd] = -108.668735126514  <S**2> = +0.000009  Fidelity = 0.999814  Grad = 1.32e-02  CPU Time =    0.24194  (0.01 / step)\n",
      "      7: E[sauccsd] = -108.668745328372  <S**2> = +0.000009  Fidelity = 0.999835  Grad = 4.44e-03  CPU Time =    0.24310  (0.01 / step)\n",
      "      8: E[sauccsd] = -108.668746776280  <S**2> = +0.000009  Fidelity = 0.999839  Grad = 1.36e-03  CPU Time =    0.24337  (0.01 / step)\n",
      "      9: E[sauccsd] = -108.668746846458  <S**2> = +0.000009  Fidelity = 0.999839  Grad = 4.61e-04  CPU Time =    0.46435  (0.01 / step)\n",
      "  Final: E[sauccsd] = -108.668746846458  <S**2> = +0.000009  Fidelity = 0.999839  rho = 1 \n",
      "\n",
      "(sauccsd state)\n",
      "      Basis              Coef\n",
      "| 000000010101 > : +0.9613 +0.0000i\n",
      "| 000001010001 > : -0.1398 +0.0000i\n",
      "| 000100010100 > : -0.1398 +0.0000i\n",
      "\n",
      "\n",
      "VQE Done: CPU Time =          2.8600\n",
      "\n"
     ]
    }
   ],
   "source": [
    "# Run UCCSD\n",
    "Q.run()"
   ]
  },
  {
   "cell_type": "markdown",
   "metadata": {},
   "source": [
    "### (2.2) Converged variational parameters\n",
    "To see the optimized theta values, you may check\n",
    "```python\n",
    "    printmat(Q.theta_list)\n",
    "```\n",
    "Here, `printmat` is a subroutine that prints out a matrix/vector."
   ]
  },
  {
   "cell_type": "code",
   "execution_count": 11,
   "metadata": {},
   "outputs": [
    {
     "name": "stdout",
     "output_type": "stream",
     "text": [
      "\n",
      "               0          \n",
      "    0     -0.0103013  \n",
      "    1      0.0000000  \n",
      "    2      0.0000000  \n",
      "    3     -0.0723087  \n",
      "    4      0.0000000  \n",
      "    5     -0.0055647  \n",
      "    6      0.0000000  \n",
      "    7     -0.0885835  \n",
      "    8      0.0000000  \n",
      "    9      0.0000000  \n",
      "   10      0.0000000  \n",
      "   11      0.0000000  \n",
      "   12      0.0000000  \n",
      "   13      0.0000000  \n",
      "   14      0.0000000  \n",
      "   15      0.0000000  \n",
      "   16      0.0026076  \n",
      "   17      0.0000000  \n",
      "   18     -0.0361066  \n",
      "   19      0.0000000  \n",
      "   20      0.0000000  \n",
      "   21     -0.0720568  \n",
      "   22      0.0000000  \n",
      "   23      0.0000000  \n",
      "   24     -0.0101847  \n",
      "   25      0.0000000  \n",
      "   26     -0.0056327  \n",
      "   27      0.0000000  \n",
      "   28      0.0000000  \n",
      "   29      0.0026044  \n",
      "   30      0.0000000  \n",
      "   31      0.0000000  \n",
      "   32      0.0000000  \n",
      "   33      0.0000000  \n",
      "   34      0.0000000  \n",
      "   35     -0.0316131  \n",
      "   36      0.0000000  \n",
      "   37     -0.0316144  \n",
      "   38      0.0000000  \n",
      "   39     -0.0190303  \n",
      "   40      0.0000000  \n",
      "   41      0.0000000  \n",
      "   42     -0.0190477  \n",
      "   43      0.0000000  \n",
      "   44     -0.0137579  \n",
      "   45      0.0000000  \n",
      "   46      0.0000000  \n",
      "   47      0.0000000  \n",
      "   48      0.0000000  \n",
      "   49      0.0000000  \n",
      "   50      0.0000000  \n",
      "   51      0.0000000  \n",
      "   52      0.0000000  \n",
      "   53      0.0000000  \n",
      "\n"
     ]
    }
   ],
   "source": [
    "printmat(Q.theta_list)"
   ]
  },
  {
   "cell_type": "markdown",
   "metadata": {},
   "source": [
    "### (2.3) `fidelity()` to check the converged UCCSD state\n",
    "Compare the UCCSD state and FCI states."
   ]
  },
  {
   "cell_type": "code",
   "execution_count": 12,
   "metadata": {},
   "outputs": [
    {
     "name": "stdout",
     "output_type": "stream",
     "text": [
      "final uccsd state\n",
      "      Basis              Coef\n",
      "| 000000010101 > : +0.9613 +0.0000i\n",
      "| 000001010001 > : -0.1398 +0.0000i\n",
      "| 000100010100 > : -0.1398 +0.0000i\n",
      "\n",
      "fci exact state\n",
      "      Basis              Coef\n",
      "| 000000010101 > : +0.9614 +0.0000i\n",
      "| 000001010001 > : -0.1383 +0.0000i\n",
      "| 000100010100 > : -0.1383 +0.0000i\n",
      "\n"
     ]
    },
    {
     "data": {
      "text/plain": [
       "0.9998391384549907"
      ]
     },
     "execution_count": 12,
     "metadata": {},
     "output_type": "execute_result"
    }
   ],
   "source": [
    "print_state(Q.state, name=\"final uccsd state\")\n",
    "print_state(Q.fci_states[0]['state'], name=\"fci exact state\")\n",
    "Q.fidelity(state=Q.state) # Default state = Q.state "
   ]
  },
  {
   "cell_type": "markdown",
   "metadata": {},
   "source": [
    "### (2.4) `vqe()` is an alternative to `run()` for VQE\n",
    "`vqe()` simply runs VQE with `pauli_list` and `theta_list` (which is zeroed-out because `pauli_list` has been changed).  \n",
    "It can be used even if `method != \"vqe\"`, but `theta_list` will be overwritten."
   ]
  },
  {
   "cell_type": "code",
   "execution_count": 13,
   "metadata": {},
   "outputs": [
    {
     "name": "stdout",
     "output_type": "stream",
     "text": [
      "      1: E[sauccsd] = -108.646352933729  <S**2> = +0.000001  Fidelity = 0.976126  Grad = 6.26e-01  CPU Time =    0.66222  (0.01 / step)\n",
      "      2: E[sauccsd] = -108.659301110535  <S**2> = +0.000002  Fidelity = 0.987588  Grad = 3.20e-01  CPU Time =    0.24231  (0.01 / step)\n",
      "      3: E[sauccsd] = -108.666470234985  <S**2> = +0.000003  Fidelity = 0.996814  Grad = 1.46e-01  CPU Time =    0.23878  (0.01 / step)\n",
      "      4: E[sauccsd] = -108.668164908414  <S**2> = +0.000004  Fidelity = 0.999153  Grad = 7.34e-02  CPU Time =    0.24245  (0.01 / step)\n",
      "      5: E[sauccsd] = -108.668556521107  <S**2> = +0.000007  Fidelity = 0.999681  Grad = 7.11e-02  CPU Time =    0.24814  (0.01 / step)\n",
      "      6: E[sauccsd] = -108.668735126514  <S**2> = +0.000009  Fidelity = 0.999814  Grad = 1.32e-02  CPU Time =    0.24201  (0.01 / step)\n",
      "      7: E[sauccsd] = -108.668745328372  <S**2> = +0.000009  Fidelity = 0.999835  Grad = 4.44e-03  CPU Time =    0.24125  (0.01 / step)\n",
      "      8: E[sauccsd] = -108.668746776280  <S**2> = +0.000009  Fidelity = 0.999839  Grad = 1.36e-03  CPU Time =    0.24089  (0.01 / step)\n",
      "      9: E[sauccsd] = -108.668746846457  <S**2> = +0.000009  Fidelity = 0.999839  Grad = 4.61e-04  CPU Time =    0.47006  (0.01 / step)\n",
      "  Final: E[sauccsd] = -108.668746846457  <S**2> = +0.000009  Fidelity = 0.999839  rho = 1 \n",
      "\n",
      "(sauccsd state)\n",
      "      Basis              Coef\n",
      "| 000000010101 > : +0.9613 +0.0000i\n",
      "| 000001010001 > : -0.1398 +0.0000i\n",
      "| 000100010100 > : -0.1398 +0.0000i\n",
      "\n",
      "VQE Done.\n"
     ]
    }
   ],
   "source": [
    "# Q.theta_list contains converged theta from `run()`, so initialize to zero\n",
    "Q.theta_list *= 0\n",
    "Q.vqe()"
   ]
  },
  {
   "cell_type": "markdown",
   "metadata": {},
   "source": [
    "## (3) Further functionalities of `QuketData`"
   ]
  },
  {
   "cell_type": "markdown",
   "metadata": {},
   "source": [
    "### (3.1) `print_state()`\n",
    "This simply calls `print_state()` using `Q.state` as a default state."
   ]
  },
  {
   "cell_type": "code",
   "execution_count": 14,
   "metadata": {},
   "outputs": [
    {
     "name": "stdout",
     "output_type": "stream",
     "text": [
      "      Basis              Coef\n",
      "| 000000010101 > : +0.9613 +0.0000i\n",
      "| 000001010001 > : -0.1398 +0.0000i\n",
      "| 000100010100 > : -0.1398 +0.0000i\n",
      "\n",
      "      Basis              Coef\n",
      "| 000000010101 > : +1.0000 +0.0000i\n",
      "\n"
     ]
    }
   ],
   "source": [
    "Q.print_state()\n",
    "Q.print_state(Q.init_state)"
   ]
  },
  {
   "cell_type": "markdown",
   "metadata": {},
   "source": [
    "### (3.2) `get_E()`\n",
    "This evaluates the expectation value of energy using `Q.state` as a default state."
   ]
  },
  {
   "cell_type": "code",
   "execution_count": 15,
   "metadata": {},
   "outputs": [
    {
     "name": "stdout",
     "output_type": "stream",
     "text": [
      "UCCSD final energy =  -108.66874684645722\n",
      "HF initial energy =  -108.54191496085956\n"
     ]
    }
   ],
   "source": [
    "# UCCSD energy (Q.state)\n",
    "print(\"UCCSD final energy = \", Q.get_E())\n",
    "# Hartree-Fock energy (init_state = HF)\n",
    "print(\"HF initial energy = \", Q.get_E(Q.init_state))"
   ]
  },
  {
   "cell_type": "markdown",
   "metadata": {},
   "source": [
    "### (3.3) `get_S2()` and `get_N()` \n",
    "They similarly evaluate the expectation value of $S^2$ and $N$ (using `Q.state` as a default state)"
   ]
  },
  {
   "cell_type": "code",
   "execution_count": 16,
   "metadata": {},
   "outputs": [
    {
     "name": "stdout",
     "output_type": "stream",
     "text": [
      "UCCSD <S**2> =  9.050300657398314e-06\n",
      "UCCSD <N> =  5.999999999999999\n"
     ]
    }
   ],
   "source": [
    "print(\"UCCSD <S**2> = \", Q.get_S2())\n",
    "print(\"UCCSD <N> = \", Q.get_N())"
   ]
  },
  {
   "cell_type": "markdown",
   "metadata": {},
   "source": [
    "### (3.4) `get_1RDM()`\n",
    "It evaluates the one-particle density matrix (alpha and beta spins)."
   ]
  },
  {
   "cell_type": "code",
   "execution_count": 17,
   "metadata": {},
   "outputs": [
    {
     "name": "stdout",
     "output_type": "stream",
     "text": [
      " === Computing 1RDM === \n",
      " === Computing 2RDM === \n",
      "\n",
      "unrelaxed DA\n",
      "\n",
      "               0              1              2              3              4              5              6              7              8              9          \n",
      "\n",
      "    0      1.0000000      0.0000000      0.0000000      0.0000000      0.0000000      0.0000000      0.0000000      0.0000000      0.0000000      0.0000000  \n",
      "    1      0.0000000      1.0000000      0.0000000      0.0000000      0.0000000      0.0000000      0.0000000      0.0000000      0.0000000      0.0000000  \n",
      "    2      0.0000000      0.0000000      1.0000000      0.0000000      0.0000000      0.0000000      0.0000000      0.0000000      0.0000000      0.0000000  \n",
      "    3      0.0000000      0.0000000      0.0000000      1.0000000      0.0000000      0.0000000      0.0000000      0.0000000      0.0000000      0.0000000  \n",
      "    4      0.0000000      0.0000000      0.0000000      0.0000000      0.9651076      0.0000000      0.0000000      0.0000000      0.0000000      0.0000000  \n",
      "    5      0.0000000      0.0000000      0.0000000      0.0000000      0.0000000      0.9651022      0.0000000      0.0000000      0.0000000      0.0000000  \n",
      "    6      0.0000000      0.0000000      0.0000000      0.0000000      0.0000000      0.0000000      0.9920083      0.0000000      0.0000000      0.0000000  \n",
      "    7      0.0000000      0.0000000      0.0000000      0.0000000      0.0000000      0.0000000      0.0000000      0.0361586      0.0000000      0.0000000  \n",
      "    8      0.0000000      0.0000000      0.0000000      0.0000000      0.0000000      0.0000000      0.0000000      0.0000000      0.0361527      0.0000000  \n",
      "    9      0.0000000      0.0000000      0.0000000      0.0000000      0.0000000      0.0000000      0.0000000      0.0000000      0.0000000      0.0054705  \n",
      "\n",
      "\n",
      "relaxed DA\n",
      "\n",
      "               0              1              2              3              4              5              6              7              8              9          \n",
      "\n",
      "    0      1.0000000      0.0000000      0.0000000      0.0000000      0.0000000      0.0000000      0.0001278      0.0000000     -0.0000000     -0.0000000  \n",
      "    1      0.0000000      1.0000000      0.0000000      0.0000000      0.0000000     -0.0000000      0.0000000     -0.0000000      0.0000000      0.0000514  \n",
      "    2      0.0000000      0.0000000      1.0000000      0.0000000      0.0000000     -0.0000000     -0.0095737     -0.0000000     -0.0000000     -0.0000000  \n",
      "    3      0.0000000      0.0000000      0.0000000      1.0000000      0.0000000     -0.0000000      0.0000000      0.0000000      0.0000000      0.0135134  \n",
      "    4      0.0000000      0.0000000      0.0000000      0.0000000      0.9651076      0.0000000      0.0000000     -0.0000000      0.0000000      0.0000000  \n",
      "    5      0.0000000     -0.0000000     -0.0000000     -0.0000000      0.0000000      0.9651022     -0.0000000      0.0000000     -0.0000000     -0.0000000  \n",
      "    6      0.0001278      0.0000000     -0.0095737      0.0000000      0.0000000     -0.0000000      0.9920083     -0.0000000     -0.0000000     -0.0000000  \n",
      "    7      0.0000000     -0.0000000     -0.0000000      0.0000000     -0.0000000      0.0000000     -0.0000000      0.0361586      0.0000000     -0.0000000  \n",
      "    8     -0.0000000      0.0000000     -0.0000000      0.0000000      0.0000000     -0.0000000     -0.0000000      0.0000000      0.0361527      0.0000000  \n",
      "    9     -0.0000000      0.0000514     -0.0000000      0.0135134      0.0000000     -0.0000000     -0.0000000     -0.0000000      0.0000000      0.0054705  \n",
      "\n"
     ]
    }
   ],
   "source": [
    "### Compute UCCSD 1RDM\n",
    "Q.get_1RDM()\n",
    "### Now have DA, DB, RelDA (relaxed DA), etc.\n",
    "# Can use printmat() \n",
    "printmat(Q.DA, \"unrelaxed DA\")\n",
    "printmat(Q.RelDA, \"relaxed DA\")"
   ]
  },
  {
   "cell_type": "markdown",
   "metadata": {},
   "source": [
    "### (3.5) `save()`, `load()`, `copy()`\n",
    "Save and load the result in `QuketData`.  \n",
    "`QuketData` can be also copied."
   ]
  },
  {
   "cell_type": "code",
   "execution_count": 18,
   "metadata": {},
   "outputs": [
    {
     "name": "stdout",
     "output_type": "stream",
     "text": [
      "Saved in q.qkt.\n"
     ]
    }
   ],
   "source": [
    "Q.save('q.qkt')"
   ]
  },
  {
   "cell_type": "code",
   "execution_count": 19,
   "metadata": {},
   "outputs": [
    {
     "name": "stdout",
     "output_type": "stream",
     "text": [
      "Data loaded successfully.\n"
     ]
    }
   ],
   "source": [
    "X = create()\n",
    "X.load('q.qkt')"
   ]
  },
  {
   "cell_type": "code",
   "execution_count": 20,
   "metadata": {},
   "outputs": [
    {
     "name": "stdout",
     "output_type": "stream",
     "text": [
      "-108.66874684645724 -108.66874684645724\n",
      "      Basis              Coef\n",
      "| 000000010101 > : +0.9613 +0.0000i\n",
      "| 000001010001 > : -0.1398 +0.0000i\n",
      "| 000100010100 > : -0.1398 +0.0000i\n",
      "\n"
     ]
    }
   ],
   "source": [
    "print(Q.energy, X.energy)\n",
    "X.print_state()"
   ]
  },
  {
   "cell_type": "code",
   "execution_count": 21,
   "metadata": {},
   "outputs": [
    {
     "name": "stdout",
     "output_type": "stream",
     "text": [
      "True\n",
      "False\n"
     ]
    }
   ],
   "source": [
    "# Successfuly loaded, but the memory addresses are different\n",
    "print(X.pauli_list == Q.pauli_list)\n",
    "print(id(X.pauli_list) == id(Q.pauli_list))"
   ]
  },
  {
   "cell_type": "code",
   "execution_count": 22,
   "metadata": {},
   "outputs": [],
   "source": [
    "# Copy bypasses save and load.\n",
    "X = Q.copy()"
   ]
  },
  {
   "cell_type": "markdown",
   "metadata": {
    "tags": []
   },
   "source": [
    "### (3.6) `set()` and `initialize()`\n",
    "You can change the active space by using `set()` to change the parameters and `initialize()` to initialize Hamiltonian and such.  \n",
    "For example, we can restrict the active space to contain only 4 electrons and $\\pi$, $\\pi^*$ orbitals.  \n",
    "Since the active space is defined with the orbitals around HOMO and LUMO, 4th and 6th orbitals should be switched.  \n",
    "This can be done by using `alter`."
   ]
  },
  {
   "cell_type": "code",
   "execution_count": 23,
   "metadata": {},
   "outputs": [
    {
     "name": "stdout",
     "output_type": "stream",
     "text": [
      "Basis set = sto-6g\n",
      "\n",
      "*** Geometry ******************************\n",
      "  N     0.0000000    0.0000000    0.0000000\n",
      "  N     1.0980000    0.0000000    0.0000000\n",
      "*******************************************\n",
      "\n",
      "Symmetry Dooh : D2h(Abelian)\n",
      "E[FCI]    = -108.582282828832     (Spin = 1   Ms = 0)\n",
      "E[HF]     = -108.541914960860     (Spin = 1   Ms = 0)\n",
      "Orbital switched:\n",
      "   4 <-> 6 \n",
      "Existing theta_list is inconsistent :\n",
      "   size of pauli_list 14 != size of theta_list 54.\n",
      "Ovewrite theta_list by zero.\n",
      "\n",
      "[Molecular Orbitals]\n",
      "---+-------+------------+------------------\n",
      " # |  Sym  |   energy   |     category\n",
      "---+-------+------------+------------------\n",
      " 0 |   Ag  |   -15.7220 | Frozen Core\n",
      " 1 |  B1u  |   -15.7197 | Frozen Core\n",
      " 2 |   Ag  |    -1.4497 | Frozen Core\n",
      " 3 |  B1u  |    -0.7317 | Frozen Core\n",
      " 4 |   Ag  |    -0.5441 | Frozen Core\n",
      " 5 |  B3u  |    -0.5775 | Active (occupied)\n",
      " 6 |  B2u  |    -0.5775 | Active (occupied)\n",
      " 7 |  B2g  |     0.2707 | Active (virtual)\n",
      " 8 |  B3g  |     0.2707 | Active (virtual)\n",
      " 9 |  B1u  |     1.0924 | Secondary\n",
      "---+-------+------------+------------------\n",
      "\n"
     ]
    }
   ],
   "source": [
    "Q.set(alter=[4,6])\n",
    "# Redefine numbers of active orbitals and electrons, and initial state.\n",
    "Q.set(n_orbitals=4, n_electrons=4, det=\"00001111\")\n",
    "Q.initialize()\n",
    "Q.print_mo_energy()"
   ]
  },
  {
   "cell_type": "code",
   "execution_count": 24,
   "metadata": {},
   "outputs": [
    {
     "name": "stdout",
     "output_type": "stream",
     "text": [
      "      1: E[sauccsd] = -108.623150118522  <S**2> = +0.000037  Grad = 6.70e-01  CPU Time =    0.09365  (0.00 / step)\n",
      "      2: E[sauccsd] = -108.638941665769  <S**2> = +0.000005  Grad = 2.42e-01  CPU Time =    0.03237  (0.00 / step)\n",
      "      3: E[sauccsd] = -108.643018339026  <S**2> = +0.000002  Grad = 1.23e-01  CPU Time =    0.03180  (0.00 / step)\n",
      "      4: E[sauccsd] = -108.644586262916  <S**2> = +0.000002  Grad = 6.25e-02  CPU Time =    0.03186  (0.00 / step)\n",
      "      5: E[sauccsd] = -108.645011294983  <S**2> = +0.000003  Grad = 1.73e-02  CPU Time =    0.03186  (0.00 / step)\n",
      "      6: E[sauccsd] = -108.645023794702  <S**2> = +0.000003  Grad = 5.50e-03  CPU Time =    0.03181  (0.00 / step)\n",
      "      7: E[sauccsd] = -108.645025645439  <S**2> = +0.000003  Grad = 6.95e-04  CPU Time =    0.03240  (0.00 / step)\n",
      "      8: E[sauccsd] = -108.645025673258  <S**2> = +0.000003  Grad = 1.23e-04  CPU Time =    0.03222  (0.00 / step)\n",
      "  Final: E[sauccsd] = -108.645025673258  <S**2> = +0.000003  rho = 1 \n",
      "\n",
      "(sauccsd state)\n",
      "    Basis            Coef\n",
      "| 00000101 > : +0.9629 +0.0000i\n",
      "| 00010100 > : -0.1500 +0.0000i\n",
      "| 01000001 > : -0.1500 +0.0000i\n",
      "\n",
      "VQE Done.\n"
     ]
    }
   ],
   "source": [
    "# Run vqe\n",
    "Q.vqe()"
   ]
  },
  {
   "cell_type": "markdown",
   "metadata": {},
   "source": [
    "### Currently, FCI energy is evaluated before performing `alter`.\n",
    "So the FCI energy may be wrong. This should be fixed.  \n",
    "Also, note that `fci2qubit()` exploits FCI coefficients provided by PySCF, so in this case it does not work."
   ]
  },
  {
   "cell_type": "markdown",
   "metadata": {},
   "source": [
    "### (3.7) Debug mode\n",
    "Simply set the option `debug = True` or overwrite the parameter `debug` in the config file, `cf.debug = True`"
   ]
  },
  {
   "cell_type": "code",
   "execution_count": 25,
   "metadata": {},
   "outputs": [
    {
     "name": "stdout",
     "output_type": "stream",
     "text": [
      "+----------------+\n",
      "| CHEMICAL STATE |\n",
      "+----------------+\n",
      "\tbasis=sto-6g\n",
      "\tmo_basis=hf\n",
      "\tn_orbitals=10\n",
      "\tn_frozen_orbitals=5\n",
      "\tn_core_orbitals=0\n",
      "\tn_active_orbitals=4\n",
      "\tn_frozenv_orbitals=1\n",
      "\tn_secondary_orbitals=0\n",
      "\tn_electrons=14\n",
      "\tn_active_electrons=4\n",
      "\texcitation\n",
      "\tinclude={'c': 'a/s', 'a': 'a/s', 'cc': 'aa/as/ss', 'ca': 'aa/as/ss', 'aa': 'aa/as/ss'}\n",
      "Basis set = sto-6g\n",
      "\n",
      "*** Geometry ******************************\n",
      "  N     0.0000000    0.0000000    0.0000000\n",
      "  N     1.0980000    0.0000000    0.0000000\n",
      "*******************************************\n",
      "\n",
      "Symmetry Dooh : D2h(Abelian)\n",
      "E[FCI]    = -108.582282828832     (Spin = 1   Ms = 0)\n",
      "E[HF]     = -108.541914960860     (Spin = 1   Ms = 0)\n",
      "Orbital switched:\n",
      "   4 <-> 6 \n",
      "2022-07-27 10:24:18.941085:  Enter VQE_driver\n",
      "Entered VQE driver\n",
      "secondary: 0, vir: (2, 2), act: (2, 2), core: 0\n",
      "ndim1: 4, ndim2: 10\n",
      "Performing VQE for sauccsd\n",
      "Number of VQE parameters: 14\n",
      "Initial configuration: |00001111>\n",
      "Convergence criteria: ftol = 1E-09, gtol = 1E-05\n",
      "Derivatives: Analytical\n",
      "Circuit order: Exp[T1] Exp[T2] |0>\n",
      "Initial: E[sauccsd] = -108.541914960860  <S**2> = +0.000000  rho = 1  \n",
      " cost =  -108.5419149608595291    ||g|| = 7.84e-01    g_max = 7.50e-01   grad time = 0.032\n",
      "mpi.rank=0    Initial |H>:  0.008   Initial U!|H>: 0.000    U!|0>:  0.002    U!|H>: 0.002    sigma|0>:  0.018   Inner_product:  0.001\n",
      " cost =  -107.5520158776789401    ||g|| = 1.03e+00    g_max = 5.78e-01   grad time = 0.024\n",
      "mpi.rank=0    Initial |H>:  0.005   Initial U!|H>: 0.000    U!|0>:  0.003    U!|H>: 0.002    sigma|0>:  0.014   Inner_product:  0.001\n",
      " cost =  -108.5812949788383719    ||g|| = 1.22e-01    g_max = 1.09e-01   grad time = 0.024\n",
      "mpi.rank=0    Initial |H>:  0.004   Initial U!|H>: 0.000    U!|0>:  0.003    U!|H>: 0.002    sigma|0>:  0.014   Inner_product:  0.001\n",
      "      1: E[sauccsd] = -108.581294978838  <S**2> = +0.000000  Grad = 1.22e-01  CPU Time =    0.08822  (0.00 / step)\n",
      " cost =  -108.5822760679617289    ||g|| = 8.87e-03    g_max = 7.23e-03   grad time = 0.024\n",
      "mpi.rank=0    Initial |H>:  0.004   Initial U!|H>: 0.000    U!|0>:  0.003    U!|H>: 0.002    sigma|0>:  0.014   Inner_product:  0.001\n",
      "      2: E[sauccsd] = -108.582276067962  <S**2> = -0.000000  Grad = 8.87e-03  CPU Time =    0.02685  (0.00 / step)\n",
      " cost =  -108.5822820410746061    ||g|| = 1.91e-03    g_max = 1.61e-03   grad time = 0.024\n",
      "mpi.rank=0    Initial |H>:  0.004   Initial U!|H>: 0.000    U!|0>:  0.003    U!|H>: 0.002    sigma|0>:  0.014   Inner_product:  0.001\n",
      "      3: E[sauccsd] = -108.582282041075  <S**2> = +0.000000  Grad = 1.91e-03  CPU Time =    0.02695  (0.00 / step)\n",
      " cost =  -108.5822823436880356    ||g|| = 2.31e-05    g_max = 6.48e-06   grad time = 0.024\n",
      "mpi.rank=0    Initial |H>:  0.004   Initial U!|H>: 0.000    U!|0>:  0.003    U!|H>: 0.002    sigma|0>:  0.014   Inner_product:  0.001\n",
      "      4: E[sauccsd] = -108.582282343688  <S**2> = -0.000000  Grad = 2.31e-05  CPU Time =    0.02670  (0.00 / step)\n",
      " cost =  -108.5822823437333540    ||g|| = 6.10e-07    g_max = 2.11e-07   grad time = 0.024\n",
      "mpi.rank=0    Initial |H>:  0.004   Initial U!|H>: 0.000    U!|0>:  0.003    U!|H>: 0.003    sigma|0>:  0.014   Inner_product:  0.001\n",
      "      5: E[sauccsd] = -108.582282343733  <S**2> = -0.000000  Grad = 6.10e-07  CPU Time =    0.02622  (0.00 / step)\n",
      "  Final: E[sauccsd] = -108.582282343733  <S**2> = -0.000000  rho = 1 \n",
      "\n",
      "(sauccsd state)\n",
      "    Basis            Coef\n",
      "| 00000101 > : +0.9793 +0.0000i\n",
      "| 00010100 > : -0.1911 +0.0000i\n",
      "\n",
      "\n",
      "VQE Done: CPU Time =          0.1975\n",
      "\n"
     ]
    }
   ],
   "source": [
    "Q.set(debug=True)\n",
    "Q.initialize()\n",
    "Q.run()"
   ]
  },
  {
   "cell_type": "code",
   "execution_count": 26,
   "metadata": {},
   "outputs": [
    {
     "name": "stdout",
     "output_type": "stream",
     "text": [
      "True\n"
     ]
    }
   ],
   "source": [
    "print(cf.debug)"
   ]
  },
  {
   "cell_type": "code",
   "execution_count": null,
   "metadata": {},
   "outputs": [],
   "source": []
  }
 ],
 "metadata": {
  "kernelspec": {
   "display_name": "Python 3 (ipykernel)",
   "language": "python",
   "name": "python3"
  },
  "language_info": {
   "codemirror_mode": {
    "name": "ipython",
    "version": 3
   },
   "file_extension": ".py",
   "mimetype": "text/x-python",
   "name": "python",
   "nbconvert_exporter": "python",
   "pygments_lexer": "ipython3",
   "version": "3.9.12"
  }
 },
 "nbformat": 4,
 "nbformat_minor": 4
}
