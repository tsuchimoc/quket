{
 "cells": [
  {
   "cell_type": "markdown",
   "metadata": {},
   "source": [
    "# Tutorial (5): how to define Hamiltonian and ansatz\n",
    "This example shows how one can set a user-defined Hamiltonian and user-defined ansatz (for VQE).  \n",
    "Quket takes a full advantage of OpenFermion library, and these user-defined objects should be in the OpenFermion format."
   ]
  },
  {
   "cell_type": "code",
   "execution_count": 1,
   "metadata": {},
   "outputs": [
    {
     "name": "stdout",
     "output_type": "stream",
     "text": [
      "mpi4py is not imported. no MPI.\n"
     ]
    }
   ],
   "source": [
    "# import necessary modules\n",
    "from openfermion import *\n",
    "from quket import *\n",
    "from quket.utils import *\n",
    "import quket.config as cf\n",
    "import numpy as np"
   ]
  },
  {
   "cell_type": "markdown",
   "metadata": {},
   "source": [
    "[(Example 1) Hubbard Hamiltonian](#(Example-1)-Hubbard-Hamiltonian)  \n",
    "&nbsp;&nbsp;&nbsp;&nbsp;&nbsp;&nbsp;[(1.1) Define Hamiltonian in Quket using option `hamiltonian`](#(1.1)-Define-Hamiltonian-in-Quket-using-option-hamiltonian)  \n",
    "&nbsp;&nbsp;&nbsp;&nbsp;&nbsp;&nbsp;[(1.2) Run `fci2qubit()` to determine the ground state](#(1.2)-Run-fci2qubit()-to-determine-the-ground-state)  \n",
    "&nbsp;&nbsp;&nbsp;&nbsp;&nbsp;&nbsp;[(1.3) Run `vqe()`](#(1.3)-Run-vqe())  \n",
    "&nbsp;&nbsp;&nbsp;&nbsp;&nbsp;&nbsp;[(1.4) Transform the state to Jordan-Wigner's Particle-Hole representation](#(1.4)-Transform-the-state-to-Jordan-Wigner's-Particle-Hole-representation)  \n",
    "&nbsp;&nbsp;&nbsp;&nbsp;&nbsp;&nbsp;[(2.5) Tapering-off qubits](#(2.5)-Tapering-off-qubits)\n",
    "\n",
    "[(Example2) Modified Kitaev Hamiltonian](#(Example2)-Modified-Kitaev-Hamiltonian)  \n",
    "&nbsp;&nbsp;&nbsp;&nbsp;&nbsp;&nbsp;[(2.1) Define the modified Kitaev Hamiltonian](#(2.1)-Define-the-modified-Kitaev-Hamiltonian)  \n",
    "&nbsp;&nbsp;&nbsp;&nbsp;&nbsp;&nbsp;[(2.2) Run `fci2qubit()` to determine the ground state](#(2.2)-Run-fci2qubit()-to-determine-the-ground-state)  \n",
    "&nbsp;&nbsp;&nbsp;&nbsp;&nbsp;&nbsp;[(2.3) Manually define `pauli_list`](#(2.3)-Manually-define-pauli_list)  \n",
    "&nbsp;&nbsp;&nbsp;&nbsp;&nbsp;&nbsp;[(2.4) Run `vqe()`](#(2.4)-Run-vqe())\n"
   ]
  },
  {
   "cell_type": "markdown",
   "metadata": {
    "tags": []
   },
   "source": [
    "## (Example 1) Hubbard Hamiltonian"
   ]
  },
  {
   "cell_type": "markdown",
   "metadata": {},
   "source": [
    " Define the Hubbard Hamiltonian using creation and annihilation operator"
   ]
  },
  {
   "cell_type": "code",
   "execution_count": 2,
   "metadata": {},
   "outputs": [],
   "source": [
    "### Hubbard model as FermionOperator (OpenFermion part)\n",
    "nx = 4\n",
    "ny = 1\n",
    "t = 1\n",
    "U = 4\n",
    "hubbard = fermi_hubbard(nx, ny, t, U,periodic=False)"
   ]
  },
  {
   "cell_type": "markdown",
   "metadata": {
    "tags": []
   },
   "source": [
    "### (1.1) Define Hamiltonian in Quket using option `hamiltonian`  \n",
    "Here, we use the following options:\n",
    "`ansatz`: Hamiltonian variational ansatz (HVA)  \n",
    "`mapping`: Bravyi-Kitaev mapping  \n",
    "`layers`: 2 layers of HVA  \n",
    "`theta_guess`: Randomized VQE parameter guess  \n",
    "`det`: Initial state is `|00000011>` (in the Jordan-Wigner representation: this will be transfromed to the Bravyi-Kitaev representation `|00000001>`)  \n",
    "`maxiter`: Maximum iteration of VQE"
   ]
  },
  {
   "cell_type": "code",
   "execution_count": 3,
   "metadata": {},
   "outputs": [
    {
     "name": "stdout",
     "output_type": "stream",
     "text": [
      "Simulation detail\n",
      "Hamiltonian:\n",
      "(4+0j) [] +\n",
      "(-0.5+0j) [X0 Y1 Y2] +\n",
      "(0.5+0j) [Y0 Y1 X2] +\n",
      "(-1+0j) [Z0] +\n",
      "(0.5+0j) [Z0 X1 Z3] +\n",
      "(-1+0j) [Z0 Z1] +\n",
      "(-0.5+0j) [X1 Z2] +\n",
      "(1+0j) [Z1] +\n",
      "(-0.5+0j) [Z1 X2 Y3 Y4 X5] +\n",
      "(0.5+0j) [Z1 Y2 Y3 X4 X5] +\n",
      "(-0.5+0j) [Z1 Z2 Y3 Y5] +\n",
      "(-1+0j) [Z1 Z2 Z3] +\n",
      "(1+0j) [Z1 Z3] +\n",
      "(-1+0j) [Z2] +\n",
      "(-0.5+0j) [X3 Z4 X5] +\n",
      "(0.5+0j) [Z3 Z4 X5 Z7] +\n",
      "(-1+0j) [Z3 Z5 Z6 Z7] +\n",
      "(1+0j) [Z3 Z5 Z7] +\n",
      "(-0.5+0j) [X4 Y5 Y6] +\n",
      "(0.5+0j) [Y4 Y5 X6] +\n",
      "(-1+0j) [Z4] +\n",
      "(-1+0j) [Z4 Z5] +\n",
      "(-0.5+0j) [X5 Z6] +\n",
      "(1+0j) [Z5] +\n",
      "(-1+0j) [Z6]\n",
      "Initial state:\n",
      "    Basis            Coef\n",
      "| 00000001 > : +1.0000 +0.0000i\n",
      "\n"
     ]
    }
   ],
   "source": [
    "Hub = create(hamiltonian=hubbard, ansatz='hva', mapping='bk', layers=2, theta_guess='random', det='|0011>', maxiter=200)"
   ]
  },
  {
   "cell_type": "markdown",
   "metadata": {},
   "source": [
    "### (1.2) Run `fci2qubit()` to determine the ground state"
   ]
  },
  {
   "cell_type": "code",
   "execution_count": 4,
   "metadata": {},
   "outputs": [
    {
     "name": "stdout",
     "output_type": "stream",
     "text": [
      "Running OpenFemrion's QubitDavidson.\n",
      "FCI in Qubits\n",
      "(FCI state : E = -2.6249422715089907)\n",
      "    Basis            Coef\n",
      "| 00000011 > : +0.2074 +0.0000i\n",
      "| 00000100 > : +0.1734 +0.0000i\n",
      "| 00000110 > : -0.2074 -0.0000i\n",
      "| 00001011 > : +0.2349 -0.0000i\n",
      "| 00001100 > : +0.3083 -0.0000i\n",
      "| 00010000 > : +0.1734 +0.0000i\n",
      "| 00101011 > : +0.3083 -0.0000i\n",
      "| 00101100 > : +0.3670 +0.0000i\n",
      "| 00110000 > : +0.2074 +0.0000i\n",
      "| 00111000 > : -0.3670 -0.0000i\n",
      "| 00111010 > : -0.3083 +0.0000i\n",
      "| 01001000 > : -0.3083 +0.0000i\n",
      "| 01001010 > : -0.2349 +0.0000i\n",
      "| 01100000 > : -0.2074 -0.0000i\n",
      "\n"
     ]
    }
   ],
   "source": [
    "Hub.fci2qubit(nroots=1)"
   ]
  },
  {
   "cell_type": "markdown",
   "metadata": {},
   "source": [
    "### (1.3) Run `vqe()` "
   ]
  },
  {
   "cell_type": "code",
   "execution_count": 5,
   "metadata": {},
   "outputs": [
    {
     "name": "stdout",
     "output_type": "stream",
     "text": [
      "      1: E[hva] = +1.519975893562  <S**2> = +0.000000  Fidelity = 0.040982  Grad = 5.19e+00  CPU Time =    0.12068  (0.00 / step)\n",
      "      2: E[hva] = +1.519973780719  <S**2> = +0.000000  Fidelity = 0.040983  Grad = 5.19e+00  CPU Time =    0.03235  (0.00 / step)\n",
      "      3: E[hva] = +0.996838258845  <S**2> = +0.000000  Fidelity = 0.049486  Grad = 4.47e+00  CPU Time =    0.06186  (0.00 / step)\n",
      "      4: E[hva] = +0.097549242111  <S**2> = +0.000000  Fidelity = 0.056717  Grad = 4.40e+00  CPU Time =    0.03000  (0.00 / step)\n",
      "      5: E[hva] = -0.111841182173  <S**2> = +0.000000  Fidelity = 0.050103  Grad = 3.29e+00  CPU Time =    0.01599  (0.00 / step)\n",
      "      6: E[hva] = -0.314591038829  <S**2> = +0.000000  Fidelity = 0.056612  Grad = 1.56e+00  CPU Time =    0.01580  (0.00 / step)\n",
      "      7: E[hva] = -0.441594927366  <S**2> = +0.000000  Fidelity = 0.063734  Grad = 1.69e+00  CPU Time =    0.01724  (0.00 / step)\n",
      "      8: E[hva] = -0.710203419306  <S**2> = +0.000000  Fidelity = 0.097280  Grad = 3.79e+00  CPU Time =    0.01580  (0.00 / step)\n",
      "      9: E[hva] = -0.915809089666  <S**2> = +0.000000  Fidelity = 0.143950  Grad = 4.38e+00  CPU Time =    0.04365  (0.00 / step)\n",
      "     10: E[hva] = -1.170363985965  <S**2> = +0.000000  Fidelity = 0.230567  Grad = 3.36e+00  CPU Time =    0.01655  (0.00 / step)\n",
      "     11: E[hva] = -1.403534145371  <S**2> = +0.000000  Fidelity = 0.259823  Grad = 2.66e+00  CPU Time =    0.01621  (0.00 / step)\n",
      "     12: E[hva] = -1.751188536740  <S**2> = +0.000000  Fidelity = 0.331044  Grad = 3.15e+00  CPU Time =    0.01569  (0.00 / step)\n",
      "     13: E[hva] = -1.973526912192  <S**2> = +0.000000  Fidelity = 0.375808  Grad = 2.33e+00  CPU Time =    0.01579  (0.00 / step)\n",
      "     14: E[hva] = -2.094640849890  <S**2> = +0.000000  Fidelity = 0.401974  Grad = 1.92e+00  CPU Time =    0.02959  (0.00 / step)\n",
      "     15: E[hva] = -2.185986350118  <S**2> = +0.000000  Fidelity = 0.444555  Grad = 1.07e+00  CPU Time =    0.01579  (0.00 / step)\n",
      "     16: E[hva] = -2.221476463903  <S**2> = +0.000000  Fidelity = 0.448514  Grad = 4.88e-01  CPU Time =    0.01583  (0.00 / step)\n",
      "     17: E[hva] = -2.241950824594  <S**2> = +0.000000  Fidelity = 0.453563  Grad = 4.27e-01  CPU Time =    0.01581  (0.00 / step)\n",
      "     18: E[hva] = -2.263143760147  <S**2> = +0.000000  Fidelity = 0.463911  Grad = 5.60e-01  CPU Time =    0.01707  (0.00 / step)\n",
      "     19: E[hva] = -2.280219393416  <S**2> = +0.000000  Fidelity = 0.484118  Grad = 8.62e-01  CPU Time =    0.01568  (0.00 / step)\n",
      "     20: E[hva] = -2.312192786102  <S**2> = +0.000000  Fidelity = 0.507910  Grad = 7.87e-01  CPU Time =    0.01563  (0.00 / step)\n",
      "     21: E[hva] = -2.344222136693  <S**2> = +0.000000  Fidelity = 0.524965  Grad = 6.27e-01  CPU Time =    0.01401  (0.00 / step)\n",
      "     22: E[hva] = -2.377309471782  <S**2> = +0.000000  Fidelity = 0.556793  Grad = 5.99e-01  CPU Time =    0.03258  (0.00 / step)\n",
      "     23: E[hva] = -2.388008851047  <S**2> = +0.000000  Fidelity = 0.578923  Grad = 4.77e-01  CPU Time =    0.01611  (0.00 / step)\n",
      "     24: E[hva] = -2.396588418874  <S**2> = +0.000000  Fidelity = 0.568284  Grad = 2.14e-01  CPU Time =    0.01629  (0.00 / step)\n",
      "     25: E[hva] = -2.399237723877  <S**2> = +0.000000  Fidelity = 0.571478  Grad = 1.88e-01  CPU Time =    0.01582  (0.00 / step)\n",
      "     26: E[hva] = -2.401706690889  <S**2> = +0.000000  Fidelity = 0.572039  Grad = 1.39e-01  CPU Time =    0.01525  (0.00 / step)\n",
      "     27: E[hva] = -2.405587545209  <S**2> = +0.000000  Fidelity = 0.575712  Grad = 1.70e-01  CPU Time =    0.01404  (0.00 / step)\n",
      "     28: E[hva] = -2.411592614698  <S**2> = +0.000000  Fidelity = 0.583696  Grad = 2.55e-01  CPU Time =    0.01589  (0.00 / step)\n",
      "     29: E[hva] = -2.419447462123  <S**2> = +0.000000  Fidelity = 0.612290  Grad = 3.78e-01  CPU Time =    0.01594  (0.00 / step)\n",
      "     30: E[hva] = -2.425915342579  <S**2> = +0.000000  Fidelity = 0.621250  Grad = 2.72e-01  CPU Time =    0.01600  (0.00 / step)\n",
      "     31: E[hva] = -2.429555761796  <S**2> = +0.000000  Fidelity = 0.625114  Grad = 1.80e-01  CPU Time =    0.01582  (0.00 / step)\n",
      "     32: E[hva] = -2.432487573018  <S**2> = +0.000000  Fidelity = 0.634477  Grad = 1.64e-01  CPU Time =    0.01585  (0.00 / step)\n",
      "     33: E[hva] = -2.435839622209  <S**2> = +0.000000  Fidelity = 0.640407  Grad = 1.42e-01  CPU Time =    0.01473  (0.00 / step)\n",
      "     34: E[hva] = -2.437674378020  <S**2> = +0.000000  Fidelity = 0.630344  Grad = 2.27e-01  CPU Time =    0.01508  (0.00 / step)\n",
      "     35: E[hva] = -2.440318595816  <S**2> = +0.000000  Fidelity = 0.629433  Grad = 1.11e-01  CPU Time =    0.01685  (0.00 / step)\n",
      "     36: E[hva] = -2.442775136204  <S**2> = +0.000000  Fidelity = 0.629116  Grad = 1.33e-01  CPU Time =    0.01614  (0.00 / step)\n",
      "     37: E[hva] = -2.446919305832  <S**2> = +0.000000  Fidelity = 0.628268  Grad = 2.25e-01  CPU Time =    0.01579  (0.00 / step)\n",
      "     38: E[hva] = -2.450729926978  <S**2> = +0.000000  Fidelity = 0.628384  Grad = 3.40e-01  CPU Time =    0.01569  (0.00 / step)\n",
      "     39: E[hva] = -2.455033482629  <S**2> = +0.000000  Fidelity = 0.625908  Grad = 2.18e-01  CPU Time =    0.01594  (0.00 / step)\n",
      "     40: E[hva] = -2.457672156677  <S**2> = +0.000000  Fidelity = 0.635512  Grad = 1.37e-01  CPU Time =    0.01463  (0.00 / step)\n",
      "     41: E[hva] = -2.459869338115  <S**2> = +0.000000  Fidelity = 0.643802  Grad = 1.43e-01  CPU Time =    0.01536  (0.00 / step)\n",
      "     42: E[hva] = -2.460810350387  <S**2> = +0.000000  Fidelity = 0.647098  Grad = 1.12e-01  CPU Time =    0.01572  (0.00 / step)\n",
      "     43: E[hva] = -2.461666372216  <S**2> = +0.000000  Fidelity = 0.646382  Grad = 8.60e-02  CPU Time =    0.01590  (0.00 / step)\n",
      "     44: E[hva] = -2.462791486537  <S**2> = +0.000000  Fidelity = 0.642821  Grad = 8.95e-02  CPU Time =    0.01587  (0.00 / step)\n",
      "     45: E[hva] = -2.464012191357  <S**2> = +0.000000  Fidelity = 0.641462  Grad = 9.79e-02  CPU Time =    0.01600  (0.00 / step)\n",
      "     46: E[hva] = -2.465889239625  <S**2> = +0.000000  Fidelity = 0.645713  Grad = 1.32e-01  CPU Time =    0.01526  (0.00 / step)\n",
      "     47: E[hva] = -2.468179226712  <S**2> = +0.000000  Fidelity = 0.656131  Grad = 1.79e-01  CPU Time =    0.01531  (0.00 / step)\n",
      "     48: E[hva] = -2.470722450532  <S**2> = +0.000000  Fidelity = 0.665484  Grad = 1.22e-01  CPU Time =    0.01678  (0.00 / step)\n",
      "     49: E[hva] = -2.473270484642  <S**2> = +0.000000  Fidelity = 0.680390  Grad = 1.15e-01  CPU Time =    0.01618  (0.00 / step)\n",
      "     50: E[hva] = -2.475323767384  <S**2> = +0.000000  Fidelity = 0.688594  Grad = 1.47e-01  CPU Time =    0.01583  (0.00 / step)\n",
      "     51: E[hva] = -2.477061293998  <S**2> = +0.000000  Fidelity = 0.690996  Grad = 1.16e-01  CPU Time =    0.01586  (0.00 / step)\n",
      "     52: E[hva] = -2.477976115903  <S**2> = +0.000000  Fidelity = 0.686735  Grad = 1.03e-01  CPU Time =    0.01585  (0.00 / step)\n",
      "     53: E[hva] = -2.478715943466  <S**2> = +0.000000  Fidelity = 0.684802  Grad = 8.02e-02  CPU Time =    0.01522  (0.00 / step)\n",
      "     54: E[hva] = -2.480143867360  <S**2> = +0.000000  Fidelity = 0.683924  Grad = 6.67e-02  CPU Time =    0.01479  (0.00 / step)\n",
      "     55: E[hva] = -2.480258326597  <S**2> = +0.000000  Fidelity = 0.689208  Grad = 1.59e-01  CPU Time =    0.01600  (0.00 / step)\n",
      "     56: E[hva] = -2.480936880894  <S**2> = +0.000000  Fidelity = 0.691282  Grad = 3.88e-02  CPU Time =    0.01585  (0.00 / step)\n",
      "     57: E[hva] = -2.481019701057  <S**2> = +0.000000  Fidelity = 0.691799  Grad = 2.87e-02  CPU Time =    0.01588  (0.00 / step)\n",
      "     58: E[hva] = -2.481169930170  <S**2> = +0.000000  Fidelity = 0.694565  Grad = 3.15e-02  CPU Time =    0.01585  (0.00 / step)\n",
      "     59: E[hva] = -2.481524887109  <S**2> = +0.000000  Fidelity = 0.700238  Grad = 5.82e-02  CPU Time =    0.01593  (0.00 / step)\n",
      "     60: E[hva] = -2.482242143365  <S**2> = +0.000000  Fidelity = 0.708140  Grad = 9.21e-02  CPU Time =    0.01522  (0.00 / step)\n",
      "     61: E[hva] = -2.486467854431  <S**2> = +0.000000  Fidelity = 0.741067  Grad = 2.34e-01  CPU Time =    0.04705  (0.00 / step)\n",
      "     62: E[hva] = -2.487526799358  <S**2> = +0.000000  Fidelity = 0.749921  Grad = 3.02e-01  CPU Time =    0.03122  (0.00 / step)\n",
      "     63: E[hva] = -2.491262475008  <S**2> = +0.000000  Fidelity = 0.764336  Grad = 3.84e-01  CPU Time =    0.01596  (0.00 / step)\n",
      "     64: E[hva] = -2.500424631333  <S**2> = +0.000000  Fidelity = 0.770147  Grad = 3.92e-01  CPU Time =    0.01505  (0.00 / step)\n",
      "     65: E[hva] = -2.508926871286  <S**2> = +0.000000  Fidelity = 0.765853  Grad = 3.63e-01  CPU Time =    0.01618  (0.00 / step)\n",
      "     66: E[hva] = -2.517394475386  <S**2> = +0.000000  Fidelity = 0.793466  Grad = 3.14e-01  CPU Time =    0.01591  (0.00 / step)\n",
      "     67: E[hva] = -2.522769827489  <S**2> = +0.000000  Fidelity = 0.819015  Grad = 4.85e-01  CPU Time =    0.01595  (0.00 / step)\n",
      "     68: E[hva] = -2.533246446832  <S**2> = +0.000000  Fidelity = 0.843249  Grad = 2.56e-01  CPU Time =    0.01586  (0.00 / step)\n",
      "     69: E[hva] = -2.542196005000  <S**2> = +0.000000  Fidelity = 0.880427  Grad = 2.54e-01  CPU Time =    0.01579  (0.00 / step)\n",
      "     70: E[hva] = -2.548899088194  <S**2> = +0.000000  Fidelity = 0.914413  Grad = 3.21e-01  CPU Time =    0.01680  (0.00 / step)\n",
      "     71: E[hva] = -2.558677762049  <S**2> = +0.000000  Fidelity = 0.954943  Grad = 4.89e-01  CPU Time =    0.01480  (0.00 / step)\n",
      "     72: E[hva] = -2.574556751041  <S**2> = +0.000000  Fidelity = 0.980074  Grad = 5.55e-01  CPU Time =    0.01628  (0.00 / step)\n",
      "     73: E[hva] = -2.592774823348  <S**2> = +0.000000  Fidelity = 0.981914  Grad = 3.20e-01  CPU Time =    0.03109  (0.00 / step)\n",
      "     74: E[hva] = -2.596492518094  <S**2> = +0.000000  Fidelity = 0.984237  Grad = 2.19e-01  CPU Time =    0.03129  (0.00 / step)\n",
      "     75: E[hva] = -2.599178869835  <S**2> = +0.000000  Fidelity = 0.988464  Grad = 3.53e-01  CPU Time =    0.01564  (0.00 / step)\n",
      "     76: E[hva] = -2.605545161181  <S**2> = +0.000000  Fidelity = 0.991393  Grad = 1.54e-01  CPU Time =    0.01467  (0.00 / step)\n",
      "     77: E[hva] = -2.609030082011  <S**2> = +0.000000  Fidelity = 0.993674  Grad = 9.91e-02  CPU Time =    0.01576  (0.00 / step)\n",
      "     78: E[hva] = -2.611356837420  <S**2> = +0.000000  Fidelity = 0.994993  Grad = 1.22e-01  CPU Time =    0.01572  (0.00 / step)\n",
      "     79: E[hva] = -2.612245852265  <S**2> = +0.000000  Fidelity = 0.994476  Grad = 1.56e-01  CPU Time =    0.01599  (0.00 / step)\n",
      "     80: E[hva] = -2.613193937572  <S**2> = +0.000000  Fidelity = 0.994857  Grad = 6.71e-02  CPU Time =    0.01577  (0.00 / step)\n",
      "     81: E[hva] = -2.613539440428  <S**2> = +0.000000  Fidelity = 0.994123  Grad = 7.77e-02  CPU Time =    0.01681  (0.00 / step)\n",
      "     82: E[hva] = -2.613917466883  <S**2> = +0.000000  Fidelity = 0.993748  Grad = 6.30e-02  CPU Time =    0.01639  (0.00 / step)\n",
      "     83: E[hva] = -2.614693934933  <S**2> = +0.000000  Fidelity = 0.992699  Grad = 6.62e-02  CPU Time =    0.01512  (0.00 / step)\n",
      "     84: E[hva] = -2.615753711213  <S**2> = +0.000000  Fidelity = 0.991896  Grad = 9.72e-02  CPU Time =    0.01595  (0.00 / step)\n",
      "     85: E[hva] = -2.617061332108  <S**2> = +0.000000  Fidelity = 0.992033  Grad = 1.02e-01  CPU Time =    0.01673  (0.00 / step)\n",
      "     86: E[hva] = -2.618079869256  <S**2> = +0.000000  Fidelity = 0.994684  Grad = 8.31e-02  CPU Time =    0.01581  (0.00 / step)\n",
      "     87: E[hva] = -2.618665511138  <S**2> = +0.000000  Fidelity = 0.996154  Grad = 6.26e-02  CPU Time =    0.01574  (0.00 / step)\n",
      "     88: E[hva] = -2.618986288135  <S**2> = +0.000000  Fidelity = 0.996832  Grad = 4.91e-02  CPU Time =    0.01581  (0.00 / step)\n",
      "     89: E[hva] = -2.619307097930  <S**2> = +0.000000  Fidelity = 0.997395  Grad = 4.31e-02  CPU Time =    0.01422  (0.00 / step)\n",
      "     90: E[hva] = -2.619652395851  <S**2> = +0.000000  Fidelity = 0.997786  Grad = 7.56e-02  CPU Time =    0.01525  (0.00 / step)\n",
      "     91: E[hva] = -2.620086434118  <S**2> = +0.000000  Fidelity = 0.998064  Grad = 4.99e-02  CPU Time =    0.01572  (0.00 / step)\n",
      "     92: E[hva] = -2.620586252448  <S**2> = +0.000000  Fidelity = 0.998150  Grad = 4.43e-02  CPU Time =    0.01587  (0.00 / step)\n",
      "     93: E[hva] = -2.620767947876  <S**2> = +0.000000  Fidelity = 0.998019  Grad = 7.99e-02  CPU Time =    0.01587  (0.00 / step)\n",
      "     94: E[hva] = -2.620929576548  <S**2> = +0.000000  Fidelity = 0.998139  Grad = 2.96e-02  CPU Time =    0.01789  (0.00 / step)\n",
      "     95: E[hva] = -2.620988629828  <S**2> = +0.000000  Fidelity = 0.998075  Grad = 1.76e-02  CPU Time =    0.01629  (0.00 / step)\n",
      "     96: E[hva] = -2.621022459623  <S**2> = +0.000000  Fidelity = 0.998172  Grad = 2.25e-02  CPU Time =    0.01468  (0.00 / step)\n",
      "     97: E[hva] = -2.621056778868  <S**2> = +0.000000  Fidelity = 0.998155  Grad = 1.56e-02  CPU Time =    0.01604  (0.00 / step)\n",
      "     98: E[hva] = -2.621111454156  <S**2> = +0.000000  Fidelity = 0.998123  Grad = 1.51e-02  CPU Time =    0.01592  (0.00 / step)\n",
      "     99: E[hva] = -2.621156035552  <S**2> = +0.000000  Fidelity = 0.998126  Grad = 1.90e-02  CPU Time =    0.01595  (0.00 / step)\n",
      "    100: E[hva] = -2.621197679046  <S**2> = +0.000000  Fidelity = 0.998153  Grad = 2.50e-02  CPU Time =    0.01613  (0.00 / step)\n",
      "    101: E[hva] = -2.621237689752  <S**2> = +0.000000  Fidelity = 0.998185  Grad = 1.43e-02  CPU Time =    0.01654  (0.00 / step)\n",
      "    102: E[hva] = -2.621267850352  <S**2> = +0.000000  Fidelity = 0.998235  Grad = 1.50e-02  CPU Time =    0.01625  (0.00 / step)\n",
      "    103: E[hva] = -2.621339175158  <S**2> = +0.000000  Fidelity = 0.998351  Grad = 2.42e-02  CPU Time =    0.01532  (0.00 / step)\n",
      "    104: E[hva] = -2.621458029959  <S**2> = +0.000000  Fidelity = 0.998557  Grad = 4.25e-02  CPU Time =    0.01597  (0.00 / step)\n",
      "    105: E[hva] = -2.621621336095  <S**2> = +0.000000  Fidelity = 0.998708  Grad = 4.54e-02  CPU Time =    0.01609  (0.00 / step)\n",
      "    106: E[hva] = -2.621916730623  <S**2> = +0.000000  Fidelity = 0.998881  Grad = 4.74e-02  CPU Time =    0.01584  (0.00 / step)\n",
      "    107: E[hva] = -2.622317444125  <S**2> = +0.000000  Fidelity = 0.998761  Grad = 9.63e-02  CPU Time =    0.01737  (0.00 / step)\n",
      "    108: E[hva] = -2.622799213964  <S**2> = +0.000000  Fidelity = 0.999018  Grad = 1.02e-01  CPU Time =    0.01721  (0.00 / step)\n",
      "    109: E[hva] = -2.623313110579  <S**2> = +0.000000  Fidelity = 0.999168  Grad = 5.09e-02  CPU Time =    0.01495  (0.00 / step)\n",
      "    110: E[hva] = -2.623423274956  <S**2> = +0.000000  Fidelity = 0.999405  Grad = 6.64e-02  CPU Time =    0.01626  (0.00 / step)\n",
      "    111: E[hva] = -2.623681298908  <S**2> = +0.000000  Fidelity = 0.999495  Grad = 3.37e-02  CPU Time =    0.01602  (0.00 / step)\n",
      "    112: E[hva] = -2.623814054825  <S**2> = +0.000000  Fidelity = 0.999556  Grad = 2.58e-02  CPU Time =    0.01590  (0.00 / step)\n",
      "    113: E[hva] = -2.623967567617  <S**2> = +0.000000  Fidelity = 0.999630  Grad = 2.41e-02  CPU Time =    0.01597  (0.00 / step)\n",
      "    114: E[hva] = -2.624091677731  <S**2> = +0.000000  Fidelity = 0.999706  Grad = 4.47e-02  CPU Time =    0.01589  (0.00 / step)\n",
      "    115: E[hva] = -2.624189300678  <S**2> = +0.000000  Fidelity = 0.999758  Grad = 2.47e-02  CPU Time =    0.01549  (0.00 / step)\n",
      "    116: E[hva] = -2.624233374737  <S**2> = +0.000000  Fidelity = 0.999772  Grad = 1.49e-02  CPU Time =    0.01433  (0.00 / step)\n",
      "    117: E[hva] = -2.624265561802  <S**2> = +0.000000  Fidelity = 0.999782  Grad = 1.66e-02  CPU Time =    0.01676  (0.00 / step)\n",
      "    118: E[hva] = -2.624292741904  <S**2> = +0.000000  Fidelity = 0.999802  Grad = 1.17e-02  CPU Time =    0.01581  (0.00 / step)\n",
      "    119: E[hva] = -2.624326889725  <S**2> = +0.000000  Fidelity = 0.999816  Grad = 1.07e-02  CPU Time =    0.01578  (0.00 / step)\n",
      "    120: E[hva] = -2.624344047232  <S**2> = +0.000000  Fidelity = 0.999819  Grad = 1.74e-02  CPU Time =    0.01729  (0.00 / step)\n",
      "    121: E[hva] = -2.624358473486  <S**2> = +0.000000  Fidelity = 0.999825  Grad = 8.75e-03  CPU Time =    0.01694  (0.00 / step)\n",
      "    122: E[hva] = -2.624369703522  <S**2> = +0.000000  Fidelity = 0.999830  Grad = 8.21e-03  CPU Time =    0.01536  (0.00 / step)\n",
      "    123: E[hva] = -2.624382023337  <S**2> = +0.000000  Fidelity = 0.999834  Grad = 1.14e-02  CPU Time =    0.01528  (0.00 / step)\n",
      "    124: E[hva] = -2.624414765747  <S**2> = +0.000000  Fidelity = 0.999850  Grad = 1.68e-02  CPU Time =    0.01620  (0.00 / step)\n",
      "    125: E[hva] = -2.624443208159  <S**2> = +0.000000  Fidelity = 0.999858  Grad = 2.89e-02  CPU Time =    0.01618  (0.00 / step)\n",
      "    126: E[hva] = -2.624490137571  <S**2> = +0.000000  Fidelity = 0.999880  Grad = 1.45e-02  CPU Time =    0.01598  (0.00 / step)\n",
      "    127: E[hva] = -2.624520498692  <S**2> = +0.000000  Fidelity = 0.999894  Grad = 1.05e-02  CPU Time =    0.01600  (0.00 / step)\n",
      "    128: E[hva] = -2.624543880122  <S**2> = +0.000000  Fidelity = 0.999903  Grad = 1.39e-02  CPU Time =    0.01603  (0.00 / step)\n",
      "    129: E[hva] = -2.624555289046  <S**2> = +0.000000  Fidelity = 0.999907  Grad = 1.44e-02  CPU Time =    0.01421  (0.00 / step)\n",
      "    130: E[hva] = -2.624564255276  <S**2> = +0.000000  Fidelity = 0.999907  Grad = 6.50e-03  CPU Time =    0.01536  (0.00 / step)\n",
      "    131: E[hva] = -2.624569704774  <S**2> = +0.000000  Fidelity = 0.999908  Grad = 5.18e-03  CPU Time =    0.01581  (0.00 / step)\n",
      "    132: E[hva] = -2.624573314286  <S**2> = +0.000000  Fidelity = 0.999909  Grad = 5.31e-03  CPU Time =    0.01590  (0.00 / step)\n",
      "    133: E[hva] = -2.624580211368  <S**2> = +0.000000  Fidelity = 0.999912  Grad = 7.16e-03  CPU Time =    0.01691  (0.00 / step)\n",
      "    134: E[hva] = -2.624581656720  <S**2> = +0.000000  Fidelity = 0.999912  Grad = 1.01e-02  CPU Time =    0.01630  (0.00 / step)\n",
      "    135: E[hva] = -2.624586455379  <S**2> = +0.000000  Fidelity = 0.999914  Grad = 2.89e-03  CPU Time =    0.01596  (0.00 / step)\n",
      "    136: E[hva] = -2.624587496090  <S**2> = +0.000000  Fidelity = 0.999914  Grad = 2.12e-03  CPU Time =    0.01450  (0.00 / step)\n",
      "    137: E[hva] = -2.624588811964  <S**2> = +0.000000  Fidelity = 0.999914  Grad = 2.23e-03  CPU Time =    0.01606  (0.00 / step)\n",
      "    138: E[hva] = -2.624589657122  <S**2> = +0.000000  Fidelity = 0.999914  Grad = 7.01e-03  CPU Time =    0.01613  (0.00 / step)\n",
      "    139: E[hva] = -2.624591553780  <S**2> = +0.000000  Fidelity = 0.999915  Grad = 3.02e-03  CPU Time =    0.01584  (0.00 / step)\n",
      "    140: E[hva] = -2.624592860113  <S**2> = +0.000000  Fidelity = 0.999916  Grad = 1.83e-03  CPU Time =    0.01582  (0.00 / step)\n",
      "    141: E[hva] = -2.624593613029  <S**2> = +0.000000  Fidelity = 0.999917  Grad = 1.99e-03  CPU Time =    0.01586  (0.00 / step)\n",
      "    142: E[hva] = -2.624594515774  <S**2> = +0.000000  Fidelity = 0.999917  Grad = 1.90e-03  CPU Time =    0.01594  (0.00 / step)\n",
      "    143: E[hva] = -2.624595067726  <S**2> = +0.000000  Fidelity = 0.999917  Grad = 3.42e-03  CPU Time =    0.01540  (0.00 / step)\n",
      "    144: E[hva] = -2.624595818255  <S**2> = +0.000000  Fidelity = 0.999917  Grad = 2.09e-03  CPU Time =    0.01603  (0.00 / step)\n",
      "    145: E[hva] = -2.624596738800  <S**2> = +0.000000  Fidelity = 0.999916  Grad = 2.78e-03  CPU Time =    0.01601  (0.00 / step)\n",
      "    146: E[hva] = -2.624598271517  <S**2> = +0.000000  Fidelity = 0.999916  Grad = 3.99e-03  CPU Time =    0.01670  (0.00 / step)\n",
      "    147: E[hva] = -2.624601359652  <S**2> = +0.000000  Fidelity = 0.999915  Grad = 6.24e-03  CPU Time =    0.01682  (0.00 / step)\n",
      "    148: E[hva] = -2.624606217036  <S**2> = +0.000000  Fidelity = 0.999914  Grad = 7.29e-03  CPU Time =    0.01593  (0.00 / step)\n",
      "    149: E[hva] = -2.624612728486  <S**2> = +0.000000  Fidelity = 0.999915  Grad = 5.37e-03  CPU Time =    0.01415  (0.00 / step)\n",
      "    150: E[hva] = -2.624621989556  <S**2> = +0.000000  Fidelity = 0.999918  Grad = 7.06e-03  CPU Time =    0.01533  (0.00 / step)\n",
      "    151: E[hva] = -2.624625980995  <S**2> = +0.000000  Fidelity = 0.999922  Grad = 8.02e-03  CPU Time =    0.01610  (0.00 / step)\n",
      "    152: E[hva] = -2.624629228258  <S**2> = +0.000000  Fidelity = 0.999923  Grad = 5.35e-03  CPU Time =    0.01571  (0.00 / step)\n",
      "    153: E[hva] = -2.624634071978  <S**2> = +0.000000  Fidelity = 0.999925  Grad = 4.39e-03  CPU Time =    0.01583  (0.00 / step)\n",
      "    154: E[hva] = -2.624637423548  <S**2> = +0.000000  Fidelity = 0.999925  Grad = 5.21e-03  CPU Time =    0.01572  (0.00 / step)\n",
      "    155: E[hva] = -2.624648151284  <S**2> = +0.000000  Fidelity = 0.999923  Grad = 9.14e-03  CPU Time =    0.01486  (0.00 / step)\n",
      "    156: E[hva] = -2.624653098924  <S**2> = +0.000000  Fidelity = 0.999915  Grad = 1.83e-02  CPU Time =    0.01397  (0.00 / step)\n",
      "    157: E[hva] = -2.624668577934  <S**2> = +0.000000  Fidelity = 0.999921  Grad = 7.27e-03  CPU Time =    0.01577  (0.00 / step)\n",
      "    158: E[hva] = -2.624674480051  <S**2> = +0.000000  Fidelity = 0.999922  Grad = 8.72e-03  CPU Time =    0.03108  (0.00 / step)\n",
      "    159: E[hva] = -2.624685128267  <S**2> = +0.000000  Fidelity = 0.999925  Grad = 7.58e-03  CPU Time =    0.01648  (0.00 / step)\n",
      "    160: E[hva] = -2.624696622072  <S**2> = +0.000000  Fidelity = 0.999923  Grad = 8.03e-03  CPU Time =    0.01791  (0.00 / step)\n",
      "    161: E[hva] = -2.624713235035  <S**2> = +0.000000  Fidelity = 0.999925  Grad = 1.36e-02  CPU Time =    0.01504  (0.00 / step)\n",
      "    162: E[hva] = -2.624724348923  <S**2> = +0.000000  Fidelity = 0.999930  Grad = 1.71e-02  CPU Time =    0.01504  (0.00 / step)\n",
      "    163: E[hva] = -2.624736025669  <S**2> = +0.000000  Fidelity = 0.999934  Grad = 1.56e-02  CPU Time =    0.03106  (0.00 / step)\n",
      "    164: E[hva] = -2.624752501815  <S**2> = +0.000000  Fidelity = 0.999952  Grad = 1.67e-02  CPU Time =    0.01580  (0.00 / step)\n",
      "    165: E[hva] = -2.624763847602  <S**2> = +0.000000  Fidelity = 0.999956  Grad = 8.24e-03  CPU Time =    0.01587  (0.00 / step)\n",
      "    166: E[hva] = -2.624772895299  <S**2> = +0.000000  Fidelity = 0.999960  Grad = 7.28e-03  CPU Time =    0.01574  (0.00 / step)\n",
      "    167: E[hva] = -2.624778223977  <S**2> = +0.000000  Fidelity = 0.999959  Grad = 1.17e-02  CPU Time =    0.01446  (0.00 / step)\n",
      "    168: E[hva] = -2.624785998581  <S**2> = +0.000000  Fidelity = 0.999963  Grad = 7.61e-03  CPU Time =    0.01491  (0.00 / step)\n",
      "    169: E[hva] = -2.624790135523  <S**2> = +0.000000  Fidelity = 0.999963  Grad = 3.80e-03  CPU Time =    0.01669  (0.00 / step)\n",
      "    170: E[hva] = -2.624792348780  <S**2> = +0.000000  Fidelity = 0.999962  Grad = 3.21e-03  CPU Time =    0.01602  (0.00 / step)\n",
      "    171: E[hva] = -2.624793522517  <S**2> = +0.000000  Fidelity = 0.999961  Grad = 3.06e-03  CPU Time =    0.01729  (0.00 / step)\n",
      "    172: E[hva] = -2.624795649580  <S**2> = +0.000000  Fidelity = 0.999961  Grad = 4.30e-03  CPU Time =    0.01721  (0.00 / step)\n",
      "    173: E[hva] = -2.624797364419  <S**2> = +0.000000  Fidelity = 0.999962  Grad = 3.47e-03  CPU Time =    0.01765  (0.00 / step)\n",
      "    174: E[hva] = -2.624798828608  <S**2> = +0.000000  Fidelity = 0.999963  Grad = 3.42e-03  CPU Time =    0.01442  (0.00 / step)\n",
      "    175: E[hva] = -2.624801451439  <S**2> = +0.000000  Fidelity = 0.999966  Grad = 5.82e-03  CPU Time =    0.01614  (0.00 / step)\n",
      "    176: E[hva] = -2.624804287934  <S**2> = +0.000000  Fidelity = 0.999966  Grad = 4.14e-03  CPU Time =    0.01591  (0.00 / step)\n",
      "    177: E[hva] = -2.624807086836  <S**2> = +0.000000  Fidelity = 0.999968  Grad = 4.64e-03  CPU Time =    0.01595  (0.00 / step)\n",
      "    178: E[hva] = -2.624813767508  <S**2> = +0.000000  Fidelity = 0.999969  Grad = 4.99e-03  CPU Time =    0.01585  (0.00 / step)\n",
      "    179: E[hva] = -2.624816522958  <S**2> = +0.000000  Fidelity = 0.999971  Grad = 1.43e-02  CPU Time =    0.01587  (0.00 / step)\n",
      "    180: E[hva] = -2.624823131742  <S**2> = +0.000000  Fidelity = 0.999972  Grad = 5.82e-03  CPU Time =    0.01518  (0.00 / step)\n",
      "    181: E[hva] = -2.624827213304  <S**2> = +0.000000  Fidelity = 0.999972  Grad = 4.13e-03  CPU Time =    0.01426  (0.00 / step)\n",
      "    182: E[hva] = -2.624830501562  <S**2> = +0.000000  Fidelity = 0.999971  Grad = 5.42e-03  CPU Time =    0.01590  (0.00 / step)\n",
      "    183: E[hva] = -2.624833216114  <S**2> = +0.000000  Fidelity = 0.999972  Grad = 5.17e-03  CPU Time =    0.01592  (0.00 / step)\n",
      "    184: E[hva] = -2.624834561666  <S**2> = +0.000000  Fidelity = 0.999973  Grad = 5.24e-03  CPU Time =    0.01688  (0.00 / step)\n",
      "    185: E[hva] = -2.624835752094  <S**2> = +0.000000  Fidelity = 0.999973  Grad = 1.77e-03  CPU Time =    0.01693  (0.00 / step)\n",
      "    186: E[hva] = -2.624836179617  <S**2> = +0.000000  Fidelity = 0.999973  Grad = 1.49e-03  CPU Time =    0.01673  (0.00 / step)\n",
      "    187: E[hva] = -2.624836725464  <S**2> = +0.000000  Fidelity = 0.999974  Grad = 1.87e-03  CPU Time =    0.01484  (0.00 / step)\n",
      "    188: E[hva] = -2.624837044490  <S**2> = +0.000000  Fidelity = 0.999973  Grad = 4.51e-03  CPU Time =    0.01509  (0.00 / step)\n",
      "    189: E[hva] = -2.624837741489  <S**2> = +0.000000  Fidelity = 0.999973  Grad = 1.99e-03  CPU Time =    0.01597  (0.00 / step)\n",
      "    190: E[hva] = -2.624838365923  <S**2> = +0.000000  Fidelity = 0.999974  Grad = 2.06e-03  CPU Time =    0.01591  (0.00 / step)\n",
      "    191: E[hva] = -2.624839134673  <S**2> = +0.000000  Fidelity = 0.999975  Grad = 2.91e-03  CPU Time =    0.01611  (0.00 / step)\n",
      "    192: E[hva] = -2.624840557225  <S**2> = +0.000000  Fidelity = 0.999975  Grad = 3.52e-03  CPU Time =    0.01573  (0.00 / step)\n",
      "    193: E[hva] = -2.624843293002  <S**2> = +0.000000  Fidelity = 0.999976  Grad = 6.15e-03  CPU Time =    0.01566  (0.00 / step)\n",
      "    194: E[hva] = -2.624846094047  <S**2> = +0.000000  Fidelity = 0.999976  Grad = 6.05e-03  CPU Time =    0.01399  (0.00 / step)\n",
      "    195: E[hva] = -2.624849078561  <S**2> = +0.000000  Fidelity = 0.999977  Grad = 3.20e-03  CPU Time =    0.01543  (0.00 / step)\n",
      "    196: E[hva] = -2.624851322814  <S**2> = +0.000000  Fidelity = 0.999976  Grad = 4.25e-03  CPU Time =    0.01613  (0.00 / step)\n",
      "    197: E[hva] = -2.624852457557  <S**2> = +0.000000  Fidelity = 0.999976  Grad = 4.46e-03  CPU Time =    0.03286  (0.00 / step)\n",
      "    198: E[hva] = -2.624853877464  <S**2> = +0.000000  Fidelity = 0.999976  Grad = 3.34e-03  CPU Time =    0.01652  (0.00 / step)\n",
      "    199: E[hva] = -2.624857580258  <S**2> = +0.000000  Fidelity = 0.999978  Grad = 4.35e-03  CPU Time =    0.01567  (0.00 / step)\n",
      "    200: E[hva] = -2.624858716010  <S**2> = +0.000000  Fidelity = 0.999979  Grad = 3.23e-03  CPU Time =    0.01422  (0.00 / step)\n",
      "  Final: E[hva] = -2.624858716010  <S**2> = +0.000000  Fidelity = 0.999979  rho = 1 \n",
      "\n",
      "(hva state)\n",
      "    Basis            Coef\n",
      "| 00000011 > : +0.0805 +0.1921i\n",
      "| 00000100 > : +0.0668 +0.1599i\n",
      "| 00000110 > : -0.0797 -0.1926i\n",
      "| 00001011 > : +0.0906 +0.2181i\n",
      "| 00001100 > : +0.1186 +0.2822i\n",
      "| 00010000 > : +0.0666 +0.1600i\n",
      "| 00101011 > : +0.1190 +0.2825i\n",
      "| 00101100 > : +0.1416 +0.3395i\n",
      "| 00110000 > : +0.0797 +0.1906i\n",
      "| 00111000 > : -0.1419 -0.3401i\n",
      "| 00111010 > : -0.1186 -0.2838i\n",
      "| 01001000 > : -0.1185 -0.2838i\n",
      "| 01001010 > : -0.0909 -0.2179i\n",
      "| 01100000 > : -0.0797 -0.1917i\n",
      "\n",
      "VQE Done.\n"
     ]
    }
   ],
   "source": [
    "Hub.vqe()"
   ]
  },
  {
   "cell_type": "markdown",
   "metadata": {},
   "source": [
    "### (1.4) Transform the state to Jordan-Wigner's Particle-Hole representation\n",
    "For this purpose, `transform_state_bk2jw()` can be used.  \n",
    "The opposite transformation is done with `transform_state_jw2bk()`."
   ]
  },
  {
   "cell_type": "code",
   "execution_count": 6,
   "metadata": {},
   "outputs": [
    {
     "name": "stdout",
     "output_type": "stream",
     "text": [
      "    Basis            Coef\n",
      "| 00000110 > : -0.0797 -0.1926i\n",
      "| 00001001 > : +0.0805 +0.1921i\n",
      "| 00001100 > : +0.0668 +0.1599i\n",
      "| 00010010 > : -0.1186 -0.2838i\n",
      "| 00011000 > : -0.1419 -0.3401i\n",
      "| 00100001 > : +0.1190 +0.2825i\n",
      "| 00100100 > : +0.1416 +0.3395i\n",
      "| 00110000 > : +0.0666 +0.1600i\n",
      "| 01000010 > : -0.0909 -0.2179i\n",
      "| 01001000 > : -0.1185 -0.2838i\n",
      "| 01100000 > : -0.0797 -0.1917i\n",
      "| 10000001 > : +0.0906 +0.2181i\n",
      "| 10000100 > : +0.1186 +0.2822i\n",
      "| 10010000 > : +0.0797 +0.1906i\n",
      "\n"
     ]
    }
   ],
   "source": [
    "jw_state = transform_state_bk2jw(Hub.state)\n",
    "print_state(jw_state)"
   ]
  },
  {
   "cell_type": "markdown",
   "metadata": {},
   "source": [
    "Transform back to the bravyi-kitaev representation using `transform_state_jw2bk()`:"
   ]
  },
  {
   "cell_type": "code",
   "execution_count": 7,
   "metadata": {},
   "outputs": [
    {
     "name": "stdout",
     "output_type": "stream",
     "text": [
      "    Basis            Coef\n",
      "| 00000011 > : +0.0805 +0.1921i\n",
      "| 00000100 > : +0.0668 +0.1599i\n",
      "| 00000110 > : -0.0797 -0.1926i\n",
      "| 00001011 > : +0.0906 +0.2181i\n",
      "| 00001100 > : +0.1186 +0.2822i\n",
      "| 00010000 > : +0.0666 +0.1600i\n",
      "| 00101011 > : +0.1190 +0.2825i\n",
      "| 00101100 > : +0.1416 +0.3395i\n",
      "| 00110000 > : +0.0797 +0.1906i\n",
      "| 00111000 > : -0.1419 -0.3401i\n",
      "| 00111010 > : -0.1186 -0.2838i\n",
      "| 01001000 > : -0.1185 -0.2838i\n",
      "| 01001010 > : -0.0909 -0.2179i\n",
      "| 01100000 > : -0.0797 -0.1917i\n",
      "\n",
      "They are the same state (0.9999999999999988+0j)\n"
     ]
    }
   ],
   "source": [
    "bk_state = transform_state_jw2bk(jw_state)\n",
    "print_state(bk_state)\n",
    "print(\"They are the same state\", inner_product(bk_state, Hub.state))"
   ]
  },
  {
   "cell_type": "markdown",
   "metadata": {},
   "source": [
    "### (2.5) Tapering-off qubits\n",
    "Symmetry-search and tapering-off qubits can be performed for user-defined Hamiltonians."
   ]
  },
  {
   "cell_type": "code",
   "execution_count": 8,
   "metadata": {},
   "outputs": [
    {
     "name": "stdout",
     "output_type": "stream",
     "text": [
      "Tapering-Off Results:\n",
      "List of Tapered-off Qubits:  [0, 7]\n",
      "Qubit: 0    Tau: 1.0 [Z0 Z2 Z4 Z6]\n",
      "Qubit: 7    Tau: 1.0 [Z7]\n",
      "\n",
      "States     transformed.\n",
      "Operators  transformed.\n",
      "pauli_list transformed.\n",
      "theta_list transformed.\n"
     ]
    }
   ],
   "source": [
    "Hub.taper_off()"
   ]
  },
  {
   "cell_type": "code",
   "execution_count": 9,
   "metadata": {},
   "outputs": [
    {
     "name": "stdout",
     "output_type": "stream",
     "text": [
      "   Basis           Coef\n",
      "| 000001 > : +0.0805 +0.1921i\n",
      "| 000010 > : -0.0668 -0.1599i\n",
      "| 000011 > : +0.0797 +0.1926i\n",
      "| 000101 > : +0.0906 +0.2181i\n",
      "| 000110 > : -0.1186 -0.2822i\n",
      "| 001000 > : -0.0666 -0.1600i\n",
      "| 010101 > : +0.1190 +0.2825i\n",
      "| 010110 > : -0.1416 -0.3395i\n",
      "| 011000 > : -0.0797 -0.1906i\n",
      "| 011100 > : +0.1419 +0.3401i\n",
      "| 011101 > : +0.1186 +0.2838i\n",
      "| 100100 > : +0.1185 +0.2838i\n",
      "| 100101 > : +0.0909 +0.2179i\n",
      "| 110000 > : +0.0797 +0.1917i\n",
      "\n"
     ]
    }
   ],
   "source": [
    "print_state(Hub.state)"
   ]
  },
  {
   "cell_type": "code",
   "execution_count": 10,
   "metadata": {},
   "outputs": [
    {
     "name": "stdout",
     "output_type": "stream",
     "text": [
      "Qubits in the tapered-mapping 6\n",
      "Qubits in the original mapping 8\n"
     ]
    }
   ],
   "source": [
    "print(\"Qubits in the tapered-mapping\", Hub.n_qubits)\n",
    "print(\"Qubits in the original mapping\", Hub._n_qubits)"
   ]
  },
  {
   "cell_type": "code",
   "execution_count": 11,
   "metadata": {},
   "outputs": [
    {
     "name": "stdout",
     "output_type": "stream",
     "text": [
      "      1: E[hva] = -2.624859103249  <S**2> = +0.000000  Fidelity = 0.999979  Grad = 1.87e-03  CPU Time =    0.04368  (0.00 / step)\n",
      "      2: E[hva] = -2.624859241645  <S**2> = +0.000000  Fidelity = 0.999980  Grad = 1.24e-03  CPU Time =    0.01648  (0.00 / step)\n",
      "      3: E[hva] = -2.624859491112  <S**2> = +0.000000  Fidelity = 0.999980  Grad = 9.99e-04  CPU Time =    0.01578  (0.00 / step)\n",
      "      4: E[hva] = -2.624859606561  <S**2> = +0.000000  Fidelity = 0.999980  Grad = 8.20e-04  CPU Time =    0.01540  (0.00 / step)\n",
      "      5: E[hva] = -2.624859698816  <S**2> = +0.000000  Fidelity = 0.999980  Grad = 1.31e-03  CPU Time =    0.01560  (0.00 / step)\n",
      "      6: E[hva] = -2.624859801468  <S**2> = +0.000000  Fidelity = 0.999980  Grad = 7.51e-04  CPU Time =    0.01380  (0.00 / step)\n",
      "      7: E[hva] = -2.624859918602  <S**2> = +0.000000  Fidelity = 0.999980  Grad = 8.96e-04  CPU Time =    0.01482  (0.00 / step)\n",
      "      8: E[hva] = -2.624860116990  <S**2> = +0.000000  Fidelity = 0.999981  Grad = 1.29e-03  CPU Time =    0.01390  (0.00 / step)\n",
      "      9: E[hva] = -2.624860323013  <S**2> = +0.000000  Fidelity = 0.999981  Grad = 2.18e-03  CPU Time =    0.01327  (0.00 / step)\n",
      "     10: E[hva] = -2.624860542082  <S**2> = +0.000000  Fidelity = 0.999981  Grad = 1.11e-03  CPU Time =    0.01330  (0.00 / step)\n",
      "     11: E[hva] = -2.624860649690  <S**2> = +0.000000  Fidelity = 0.999981  Grad = 7.09e-04  CPU Time =    0.01324  (0.00 / step)\n",
      "     12: E[hva] = -2.624860749457  <S**2> = +0.000000  Fidelity = 0.999981  Grad = 8.59e-04  CPU Time =    0.01529  (0.00 / step)\n",
      "     13: E[hva] = -2.624860864400  <S**2> = +0.000000  Fidelity = 0.999981  Grad = 1.01e-03  CPU Time =    0.01462  (0.00 / step)\n",
      "     14: E[hva] = -2.624861060883  <S**2> = +0.000000  Fidelity = 0.999981  Grad = 1.05e-03  CPU Time =    0.01773  (0.00 / step)\n",
      "     15: E[hva] = -2.624861128460  <S**2> = +0.000000  Fidelity = 0.999981  Grad = 2.14e-03  CPU Time =    0.01642  (0.00 / step)\n",
      "     16: E[hva] = -2.624861271671  <S**2> = +0.000000  Fidelity = 0.999981  Grad = 6.56e-04  CPU Time =    0.01451  (0.00 / step)\n",
      "     17: E[hva] = -2.624861313179  <S**2> = +0.000000  Fidelity = 0.999981  Grad = 5.16e-04  CPU Time =    0.01438  (0.00 / step)\n",
      "     18: E[hva] = -2.624861358389  <S**2> = +0.000000  Fidelity = 0.999981  Grad = 5.17e-04  CPU Time =    0.01354  (0.00 / step)\n",
      "     19: E[hva] = -2.624861422122  <S**2> = +0.000000  Fidelity = 0.999981  Grad = 4.43e-04  CPU Time =    0.01358  (0.00 / step)\n",
      "     20: E[hva] = -2.624861464589  <S**2> = +0.000000  Fidelity = 0.999982  Grad = 9.82e-04  CPU Time =    0.01321  (0.00 / step)\n",
      "     21: E[hva] = -2.624861522618  <S**2> = +0.000000  Fidelity = 0.999982  Grad = 4.82e-04  CPU Time =    0.01312  (0.00 / step)\n",
      "     22: E[hva] = -2.624861575247  <S**2> = +0.000000  Fidelity = 0.999982  Grad = 4.55e-04  CPU Time =    0.01350  (0.00 / step)\n",
      "     23: E[hva] = -2.624861657272  <S**2> = +0.000000  Fidelity = 0.999982  Grad = 7.45e-04  CPU Time =    0.01357  (0.00 / step)\n",
      "     24: E[hva] = -2.624861707548  <S**2> = +0.000000  Fidelity = 0.999982  Grad = 1.30e-03  CPU Time =    0.01313  (0.00 / step)\n",
      "     25: E[hva] = -2.624861783015  <S**2> = +0.000000  Fidelity = 0.999982  Grad = 5.71e-04  CPU Time =    0.01331  (0.00 / step)\n",
      "     26: E[hva] = -2.624861825509  <S**2> = +0.000000  Fidelity = 0.999982  Grad = 4.64e-04  CPU Time =    0.01313  (0.00 / step)\n",
      "     27: E[hva] = -2.624861869430  <S**2> = +0.000000  Fidelity = 0.999982  Grad = 5.10e-04  CPU Time =    0.01317  (0.00 / step)\n",
      "     28: E[hva] = -2.624861921670  <S**2> = +0.000000  Fidelity = 0.999982  Grad = 1.32e-03  CPU Time =    0.01328  (0.00 / step)\n",
      "     29: E[hva] = -2.624861999964  <S**2> = +0.000000  Fidelity = 0.999982  Grad = 7.12e-04  CPU Time =    0.01333  (0.00 / step)\n",
      "     30: E[hva] = -2.624862074282  <S**2> = +0.000000  Fidelity = 0.999982  Grad = 6.45e-04  CPU Time =    0.01303  (0.00 / step)\n",
      "     31: E[hva] = -2.624862175842  <S**2> = +0.000000  Fidelity = 0.999982  Grad = 8.98e-04  CPU Time =    0.01402  (0.00 / step)\n",
      "     32: E[hva] = -2.624862343030  <S**2> = +0.000000  Fidelity = 0.999981  Grad = 1.52e-03  CPU Time =    0.01389  (0.00 / step)\n",
      "     33: E[hva] = -2.624862582874  <S**2> = +0.000000  Fidelity = 0.999982  Grad = 1.36e-03  CPU Time =    0.01332  (0.00 / step)\n",
      "     34: E[hva] = -2.624862843443  <S**2> = +0.000000  Fidelity = 0.999982  Grad = 1.04e-03  CPU Time =    0.01349  (0.00 / step)\n",
      "     35: E[hva] = -2.624863192947  <S**2> = +0.000000  Fidelity = 0.999982  Grad = 1.28e-03  CPU Time =    0.01310  (0.00 / step)\n",
      "     36: E[hva] = -2.624863465444  <S**2> = +0.000000  Fidelity = 0.999982  Grad = 1.72e-03  CPU Time =    0.01528  (0.00 / step)\n",
      "     37: E[hva] = -2.624863801350  <S**2> = +0.000000  Fidelity = 0.999982  Grad = 1.53e-03  CPU Time =    0.01414  (0.00 / step)\n",
      "     38: E[hva] = -2.624864323795  <S**2> = +0.000000  Fidelity = 0.999981  Grad = 3.17e-03  CPU Time =    0.01321  (0.00 / step)\n",
      "     39: E[hva] = -2.624864804522  <S**2> = +0.000000  Fidelity = 0.999981  Grad = 1.89e-03  CPU Time =    0.01305  (0.00 / step)\n",
      "     40: E[hva] = -2.624864977410  <S**2> = +0.000000  Fidelity = 0.999981  Grad = 1.39e-03  CPU Time =    0.01304  (0.00 / step)\n",
      "     41: E[hva] = -2.624865488131  <S**2> = +0.000000  Fidelity = 0.999981  Grad = 1.15e-03  CPU Time =    0.01322  (0.00 / step)\n",
      "     42: E[hva] = -2.624866068398  <S**2> = +0.000000  Fidelity = 0.999981  Grad = 1.84e-03  CPU Time =    0.01338  (0.00 / step)\n",
      "     43: E[hva] = -2.624866604384  <S**2> = +0.000000  Fidelity = 0.999981  Grad = 3.38e-03  CPU Time =    0.01297  (0.00 / step)\n",
      "     44: E[hva] = -2.624867215712  <S**2> = +0.000000  Fidelity = 0.999981  Grad = 2.10e-03  CPU Time =    0.01416  (0.00 / step)\n",
      "     45: E[hva] = -2.624867494704  <S**2> = +0.000000  Fidelity = 0.999981  Grad = 1.14e-03  CPU Time =    0.01354  (0.00 / step)\n",
      "     46: E[hva] = -2.624867763226  <S**2> = +0.000000  Fidelity = 0.999981  Grad = 1.21e-03  CPU Time =    0.01377  (0.00 / step)\n",
      "     47: E[hva] = -2.624868121294  <S**2> = +0.000000  Fidelity = 0.999981  Grad = 2.12e-03  CPU Time =    0.01374  (0.00 / step)\n",
      "     48: E[hva] = -2.624869022118  <S**2> = +0.000000  Fidelity = 0.999981  Grad = 2.73e-03  CPU Time =    0.01349  (0.00 / step)\n",
      "     49: E[hva] = -2.624870497337  <S**2> = +0.000000  Fidelity = 0.999981  Grad = 3.57e-03  CPU Time =    0.01331  (0.00 / step)\n",
      "     50: E[hva] = -2.624870786044  <S**2> = +0.000000  Fidelity = 0.999982  Grad = 7.18e-03  CPU Time =    0.01306  (0.00 / step)\n",
      "     51: E[hva] = -2.624873186466  <S**2> = +0.000000  Fidelity = 0.999983  Grad = 2.36e-03  CPU Time =    0.01299  (0.00 / step)\n",
      "     52: E[hva] = -2.624874119143  <S**2> = +0.000000  Fidelity = 0.999983  Grad = 2.14e-03  CPU Time =    0.01335  (0.00 / step)\n",
      "     53: E[hva] = -2.624874987663  <S**2> = +0.000000  Fidelity = 0.999984  Grad = 5.00e-03  CPU Time =    0.01332  (0.00 / step)\n",
      "     54: E[hva] = -2.624876236266  <S**2> = +0.000000  Fidelity = 0.999985  Grad = 2.37e-03  CPU Time =    0.01349  (0.00 / step)\n",
      "     55: E[hva] = -2.624876774896  <S**2> = +0.000000  Fidelity = 0.999985  Grad = 1.42e-03  CPU Time =    0.01322  (0.00 / step)\n",
      "     56: E[hva] = -2.624877282354  <S**2> = +0.000000  Fidelity = 0.999985  Grad = 1.48e-03  CPU Time =    0.01394  (0.00 / step)\n",
      "     57: E[hva] = -2.624877745774  <S**2> = +0.000000  Fidelity = 0.999985  Grad = 2.70e-03  CPU Time =    0.01322  (0.00 / step)\n",
      "     58: E[hva] = -2.624878287719  <S**2> = +0.000000  Fidelity = 0.999986  Grad = 1.96e-03  CPU Time =    0.01392  (0.00 / step)\n",
      "     59: E[hva] = -2.624878809747  <S**2> = +0.000000  Fidelity = 0.999986  Grad = 2.58e-03  CPU Time =    0.01376  (0.00 / step)\n",
      "     60: E[hva] = -2.624879087235  <S**2> = +0.000000  Fidelity = 0.999986  Grad = 1.87e-03  CPU Time =    0.01331  (0.00 / step)\n",
      "     61: E[hva] = -2.624879258304  <S**2> = +0.000000  Fidelity = 0.999986  Grad = 1.26e-03  CPU Time =    0.01327  (0.00 / step)\n",
      "     62: E[hva] = -2.624879619332  <S**2> = +0.000000  Fidelity = 0.999986  Grad = 1.12e-03  CPU Time =    0.01321  (0.00 / step)\n",
      "     63: E[hva] = -2.624879895914  <S**2> = +0.000000  Fidelity = 0.999986  Grad = 1.37e-03  CPU Time =    0.01506  (0.00 / step)\n",
      "     64: E[hva] = -2.624880623100  <S**2> = +0.000000  Fidelity = 0.999986  Grad = 2.55e-03  CPU Time =    0.01440  (0.00 / step)\n",
      "     65: E[hva] = -2.624880746741  <S**2> = +0.000000  Fidelity = 0.999986  Grad = 3.03e-03  CPU Time =    0.01421  (0.00 / step)\n",
      "     66: E[hva] = -2.624881246250  <S**2> = +0.000000  Fidelity = 0.999986  Grad = 1.03e-03  CPU Time =    0.01385  (0.00 / step)\n",
      "     67: E[hva] = -2.624881325943  <S**2> = +0.000000  Fidelity = 0.999986  Grad = 5.97e-04  CPU Time =    0.01578  (0.00 / step)\n",
      "     68: E[hva] = -2.624881386430  <S**2> = +0.000000  Fidelity = 0.999986  Grad = 5.79e-04  CPU Time =    0.01444  (0.00 / step)\n",
      "     69: E[hva] = -2.624881480620  <S**2> = +0.000000  Fidelity = 0.999986  Grad = 1.07e-03  CPU Time =    0.01406  (0.00 / step)\n",
      "     70: E[hva] = -2.624881584071  <S**2> = +0.000000  Fidelity = 0.999986  Grad = 7.67e-04  CPU Time =    0.01381  (0.00 / step)\n",
      "     71: E[hva] = -2.624881673047  <S**2> = +0.000000  Fidelity = 0.999986  Grad = 7.45e-04  CPU Time =    0.01579  (0.00 / step)\n",
      "     72: E[hva] = -2.624881844644  <S**2> = +0.000000  Fidelity = 0.999986  Grad = 1.34e-03  CPU Time =    0.01525  (0.00 / step)\n",
      "     73: E[hva] = -2.624882007980  <S**2> = +0.000000  Fidelity = 0.999986  Grad = 2.10e-03  CPU Time =    0.01514  (0.00 / step)\n",
      "     74: E[hva] = -2.624882204476  <S**2> = +0.000000  Fidelity = 0.999986  Grad = 1.43e-03  CPU Time =    0.01580  (0.00 / step)\n",
      "     75: E[hva] = -2.624882653650  <S**2> = +0.000000  Fidelity = 0.999987  Grad = 1.12e-03  CPU Time =    0.01587  (0.00 / step)\n",
      "     76: E[hva] = -2.624882867449  <S**2> = +0.000000  Fidelity = 0.999987  Grad = 1.10e-03  CPU Time =    0.01637  (0.00 / step)\n",
      "     77: E[hva] = -2.624882992662  <S**2> = +0.000000  Fidelity = 0.999986  Grad = 3.34e-03  CPU Time =    0.01659  (0.00 / step)\n",
      "     78: E[hva] = -2.624883431223  <S**2> = +0.000000  Fidelity = 0.999986  Grad = 9.40e-04  CPU Time =    0.01608  (0.00 / step)\n",
      "     79: E[hva] = -2.624883495608  <S**2> = +0.000000  Fidelity = 0.999986  Grad = 6.61e-04  CPU Time =    0.01549  (0.00 / step)\n",
      "     80: E[hva] = -2.624883654859  <S**2> = +0.000000  Fidelity = 0.999986  Grad = 7.89e-04  CPU Time =    0.01551  (0.00 / step)\n",
      "     81: E[hva] = -2.624883903334  <S**2> = +0.000000  Fidelity = 0.999986  Grad = 1.47e-03  CPU Time =    0.01507  (0.00 / step)\n",
      "     82: E[hva] = -2.624884099790  <S**2> = +0.000000  Fidelity = 0.999986  Grad = 2.18e-03  CPU Time =    0.01484  (0.00 / step)\n",
      "     83: E[hva] = -2.624884301361  <S**2> = +0.000000  Fidelity = 0.999986  Grad = 1.09e-03  CPU Time =    0.01554  (0.00 / step)\n",
      "     84: E[hva] = -2.624884480659  <S**2> = +0.000000  Fidelity = 0.999986  Grad = 9.03e-04  CPU Time =    0.01532  (0.00 / step)\n",
      "     85: E[hva] = -2.624884616793  <S**2> = +0.000000  Fidelity = 0.999986  Grad = 1.04e-03  CPU Time =    0.01501  (0.00 / step)\n",
      "     86: E[hva] = -2.624885131494  <S**2> = +0.000000  Fidelity = 0.999986  Grad = 1.62e-03  CPU Time =    0.01491  (0.00 / step)\n",
      "     87: E[hva] = -2.624885332366  <S**2> = +0.000000  Fidelity = 0.999986  Grad = 1.87e-03  CPU Time =    0.02940  (0.00 / step)\n",
      "     88: E[hva] = -2.624885659631  <S**2> = +0.000000  Fidelity = 0.999986  Grad = 1.07e-03  CPU Time =    0.01509  (0.00 / step)\n",
      "     89: E[hva] = -2.624885890773  <S**2> = +0.000000  Fidelity = 0.999986  Grad = 9.39e-04  CPU Time =    0.01596  (0.00 / step)\n",
      "     90: E[hva] = -2.624886080082  <S**2> = +0.000000  Fidelity = 0.999986  Grad = 2.30e-03  CPU Time =    0.01549  (0.00 / step)\n",
      "     91: E[hva] = -2.624886332779  <S**2> = +0.000000  Fidelity = 0.999987  Grad = 1.17e-03  CPU Time =    0.01511  (0.00 / step)\n",
      "     92: E[hva] = -2.624886556894  <S**2> = +0.000000  Fidelity = 0.999987  Grad = 1.13e-03  CPU Time =    0.01511  (0.00 / step)\n",
      "     93: E[hva] = -2.624886828294  <S**2> = +0.000000  Fidelity = 0.999986  Grad = 1.48e-03  CPU Time =    0.01502  (0.00 / step)\n",
      "     94: E[hva] = -2.624887446094  <S**2> = +0.000000  Fidelity = 0.999986  Grad = 2.19e-03  CPU Time =    0.01537  (0.00 / step)\n",
      "     95: E[hva] = -2.624887752099  <S**2> = +0.000000  Fidelity = 0.999986  Grad = 2.34e-03  CPU Time =    0.02560  (0.00 / step)\n",
      "     96: E[hva] = -2.624888373243  <S**2> = +0.000000  Fidelity = 0.999986  Grad = 1.67e-03  CPU Time =    0.01354  (0.00 / step)\n",
      "     97: E[hva] = -2.624888912413  <S**2> = +0.000000  Fidelity = 0.999987  Grad = 2.54e-03  CPU Time =    0.01343  (0.00 / step)\n",
      "     98: E[hva] = -2.624889393236  <S**2> = +0.000000  Fidelity = 0.999987  Grad = 1.67e-03  CPU Time =    0.01350  (0.00 / step)\n",
      "     99: E[hva] = -2.624889661831  <S**2> = +0.000000  Fidelity = 0.999988  Grad = 1.60e-03  CPU Time =    0.01308  (0.00 / step)\n",
      "    100: E[hva] = -2.624889894009  <S**2> = +0.000000  Fidelity = 0.999988  Grad = 1.47e-03  CPU Time =    0.01381  (0.00 / step)\n",
      "    101: E[hva] = -2.624890097401  <S**2> = +0.000000  Fidelity = 0.999988  Grad = 1.08e-03  CPU Time =    0.01362  (0.00 / step)\n",
      "    102: E[hva] = -2.624890192498  <S**2> = +0.000000  Fidelity = 0.999988  Grad = 8.25e-04  CPU Time =    0.01383  (0.00 / step)\n",
      "    103: E[hva] = -2.624890296187  <S**2> = +0.000000  Fidelity = 0.999988  Grad = 6.76e-04  CPU Time =    0.01412  (0.00 / step)\n",
      "    104: E[hva] = -2.624890439641  <S**2> = +0.000000  Fidelity = 0.999988  Grad = 1.36e-03  CPU Time =    0.01630  (0.00 / step)\n",
      "    105: E[hva] = -2.624890633987  <S**2> = +0.000000  Fidelity = 0.999988  Grad = 1.02e-03  CPU Time =    0.01382  (0.00 / step)\n",
      "    106: E[hva] = -2.624891008517  <S**2> = +0.000000  Fidelity = 0.999988  Grad = 1.05e-03  CPU Time =    0.01338  (0.00 / step)\n",
      "    107: E[hva] = -2.624891294440  <S**2> = +0.000000  Fidelity = 0.999988  Grad = 2.15e-03  CPU Time =    0.01330  (0.00 / step)\n",
      "    108: E[hva] = -2.624891615061  <S**2> = +0.000000  Fidelity = 0.999988  Grad = 1.70e-03  CPU Time =    0.01460  (0.00 / step)\n",
      "    109: E[hva] = -2.624891754505  <S**2> = +0.000000  Fidelity = 0.999988  Grad = 2.26e-03  CPU Time =    0.01341  (0.00 / step)\n",
      "    110: E[hva] = -2.624892035595  <S**2> = +0.000000  Fidelity = 0.999988  Grad = 1.14e-03  CPU Time =    0.01347  (0.00 / step)\n",
      "    111: E[hva] = -2.624892190410  <S**2> = +0.000000  Fidelity = 0.999989  Grad = 9.13e-04  CPU Time =    0.01407  (0.00 / step)\n",
      "    112: E[hva] = -2.624892530920  <S**2> = +0.000000  Fidelity = 0.999989  Grad = 1.26e-03  CPU Time =    0.01393  (0.00 / step)\n",
      "    113: E[hva] = -2.624892842038  <S**2> = +0.000000  Fidelity = 0.999989  Grad = 2.08e-03  CPU Time =    0.01399  (0.00 / step)\n",
      "    114: E[hva] = -2.624893300493  <S**2> = +0.000000  Fidelity = 0.999989  Grad = 2.25e-03  CPU Time =    0.01337  (0.00 / step)\n",
      "    115: E[hva] = -2.624893950255  <S**2> = +0.000000  Fidelity = 0.999989  Grad = 1.76e-03  CPU Time =    0.01373  (0.00 / step)\n",
      "    116: E[hva] = -2.624894331758  <S**2> = +0.000000  Fidelity = 0.999989  Grad = 3.85e-03  CPU Time =    0.01325  (0.00 / step)\n",
      "    117: E[hva] = -2.624894648865  <S**2> = +0.000000  Fidelity = 0.999989  Grad = 3.62e-03  CPU Time =    0.02657  (0.00 / step)\n",
      "    118: E[hva] = -2.624895114103  <S**2> = +0.000000  Fidelity = 0.999990  Grad = 1.74e-03  CPU Time =    0.01467  (0.00 / step)\n",
      "    119: E[hva] = -2.624895333804  <S**2> = +0.000000  Fidelity = 0.999990  Grad = 1.28e-03  CPU Time =    0.01571  (0.00 / step)\n",
      "    120: E[hva] = -2.624895559079  <S**2> = +0.000000  Fidelity = 0.999990  Grad = 9.77e-04  CPU Time =    0.01532  (0.00 / step)\n",
      "    121: E[hva] = -2.624895776383  <S**2> = +0.000000  Fidelity = 0.999990  Grad = 8.92e-04  CPU Time =    0.01584  (0.00 / step)\n",
      "    122: E[hva] = -2.624895876979  <S**2> = +0.000000  Fidelity = 0.999990  Grad = 1.27e-03  CPU Time =    0.01455  (0.00 / step)\n",
      "    123: E[hva] = -2.624895985673  <S**2> = +0.000000  Fidelity = 0.999990  Grad = 7.91e-04  CPU Time =    0.01432  (0.00 / step)\n",
      "    124: E[hva] = -2.624896152209  <S**2> = +0.000000  Fidelity = 0.999990  Grad = 8.74e-04  CPU Time =    0.01421  (0.00 / step)\n",
      "    125: E[hva] = -2.624896351890  <S**2> = +0.000000  Fidelity = 0.999990  Grad = 1.23e-03  CPU Time =    0.01442  (0.00 / step)\n",
      "    126: E[hva] = -2.624896641634  <S**2> = +0.000000  Fidelity = 0.999990  Grad = 2.58e-03  CPU Time =    0.01343  (0.00 / step)\n",
      "    127: E[hva] = -2.624897046754  <S**2> = +0.000000  Fidelity = 0.999990  Grad = 1.46e-03  CPU Time =    0.01363  (0.00 / step)\n",
      "    128: E[hva] = -2.624897442188  <S**2> = +0.000000  Fidelity = 0.999990  Grad = 1.71e-03  CPU Time =    0.01340  (0.00 / step)\n",
      "    129: E[hva] = -2.624897881276  <S**2> = +0.000000  Fidelity = 0.999990  Grad = 2.43e-03  CPU Time =    0.01303  (0.00 / step)\n",
      "    130: E[hva] = -2.624898227613  <S**2> = +0.000000  Fidelity = 0.999990  Grad = 1.82e-03  CPU Time =    0.01362  (0.00 / step)\n",
      "    131: E[hva] = -2.624898708433  <S**2> = +0.000000  Fidelity = 0.999990  Grad = 1.93e-03  CPU Time =    0.01339  (0.00 / step)\n",
      "    132: E[hva] = -2.624899000410  <S**2> = +0.000000  Fidelity = 0.999990  Grad = 2.58e-03  CPU Time =    0.01404  (0.00 / step)\n",
      "    133: E[hva] = -2.624899240841  <S**2> = +0.000000  Fidelity = 0.999990  Grad = 1.53e-03  CPU Time =    0.01512  (0.00 / step)\n",
      "    134: E[hva] = -2.624899368031  <S**2> = +0.000000  Fidelity = 0.999990  Grad = 1.03e-03  CPU Time =    0.01448  (0.00 / step)\n",
      "    135: E[hva] = -2.624899498567  <S**2> = +0.000000  Fidelity = 0.999989  Grad = 8.80e-04  CPU Time =    0.01366  (0.00 / step)\n",
      "    136: E[hva] = -2.624899659947  <S**2> = +0.000000  Fidelity = 0.999989  Grad = 1.01e-03  CPU Time =    0.01373  (0.00 / step)\n",
      "    137: E[hva] = -2.624899924594  <S**2> = +0.000000  Fidelity = 0.999989  Grad = 1.13e-03  CPU Time =    0.01368  (0.00 / step)\n",
      "    138: E[hva] = -2.624900279157  <S**2> = +0.000000  Fidelity = 0.999989  Grad = 2.59e-03  CPU Time =    0.01497  (0.00 / step)\n",
      "    139: E[hva] = -2.624900777016  <S**2> = +0.000000  Fidelity = 0.999990  Grad = 1.67e-03  CPU Time =    0.01689  (0.00 / step)\n",
      "    140: E[hva] = -2.624901509255  <S**2> = +0.000000  Fidelity = 0.999990  Grad = 1.48e-03  CPU Time =    0.01336  (0.00 / step)\n",
      "    141: E[hva] = -2.624901741880  <S**2> = +0.000000  Fidelity = 0.999990  Grad = 3.90e-03  CPU Time =    0.01443  (0.00 / step)\n",
      "    142: E[hva] = -2.624902151225  <S**2> = +0.000000  Fidelity = 0.999991  Grad = 2.50e-03  CPU Time =    0.01343  (0.00 / step)\n",
      "    143: E[hva] = -2.624902626036  <S**2> = +0.000000  Fidelity = 0.999991  Grad = 1.64e-03  CPU Time =    0.01329  (0.00 / step)\n",
      "    144: E[hva] = -2.624902973143  <S**2> = +0.000000  Fidelity = 0.999991  Grad = 1.45e-03  CPU Time =    0.01339  (0.00 / step)\n",
      "    145: E[hva] = -2.624903614342  <S**2> = +0.000000  Fidelity = 0.999991  Grad = 2.40e-03  CPU Time =    0.01312  (0.00 / step)\n",
      "    146: E[hva] = -2.624903945047  <S**2> = +0.000000  Fidelity = 0.999991  Grad = 4.46e-03  CPU Time =    0.01370  (0.00 / step)\n",
      "    147: E[hva] = -2.624904635311  <S**2> = +0.000000  Fidelity = 0.999991  Grad = 1.90e-03  CPU Time =    0.01394  (0.00 / step)\n",
      "    148: E[hva] = -2.624904955443  <S**2> = +0.000000  Fidelity = 0.999991  Grad = 3.07e-03  CPU Time =    0.01484  (0.00 / step)\n",
      "    149: E[hva] = -2.624905379517  <S**2> = +0.000000  Fidelity = 0.999991  Grad = 1.63e-03  CPU Time =    0.01536  (0.00 / step)\n",
      "    150: E[hva] = -2.624905906311  <S**2> = +0.000000  Fidelity = 0.999991  Grad = 1.89e-03  CPU Time =    0.01401  (0.00 / step)\n",
      "    151: E[hva] = -2.624906685330  <S**2> = +0.000000  Fidelity = 0.999992  Grad = 2.96e-03  CPU Time =    0.01367  (0.00 / step)\n",
      "    152: E[hva] = -2.624907993448  <S**2> = +0.000000  Fidelity = 0.999992  Grad = 3.92e-03  CPU Time =    0.01392  (0.00 / step)\n",
      "    153: E[hva] = -2.624908515183  <S**2> = +0.000000  Fidelity = 0.999992  Grad = 3.20e-03  CPU Time =    0.02534  (0.00 / step)\n",
      "    154: E[hva] = -2.624908749799  <S**2> = +0.000000  Fidelity = 0.999991  Grad = 3.24e-03  CPU Time =    0.01359  (0.00 / step)\n",
      "    155: E[hva] = -2.624909041829  <S**2> = +0.000000  Fidelity = 0.999991  Grad = 2.32e-03  CPU Time =    0.01354  (0.00 / step)\n",
      "    156: E[hva] = -2.624909395318  <S**2> = +0.000000  Fidelity = 0.999992  Grad = 8.61e-04  CPU Time =    0.01317  (0.00 / step)\n",
      "    157: E[hva] = -2.624909514943  <S**2> = +0.000000  Fidelity = 0.999992  Grad = 8.28e-04  CPU Time =    0.01408  (0.00 / step)\n",
      "    158: E[hva] = -2.624910184176  <S**2> = +0.000000  Fidelity = 0.999992  Grad = 1.78e-03  CPU Time =    0.01421  (0.00 / step)\n",
      "    159: E[hva] = -2.624910400623  <S**2> = +0.000000  Fidelity = 0.999992  Grad = 1.79e-03  CPU Time =    0.02585  (0.00 / step)\n",
      "    160: E[hva] = -2.624910627871  <S**2> = +0.000000  Fidelity = 0.999992  Grad = 1.45e-03  CPU Time =    0.01351  (0.00 / step)\n",
      "    161: E[hva] = -2.624911143331  <S**2> = +0.000000  Fidelity = 0.999992  Grad = 1.40e-03  CPU Time =    0.01458  (0.00 / step)\n",
      "    162: E[hva] = -2.624911323182  <S**2> = +0.000000  Fidelity = 0.999992  Grad = 2.35e-03  CPU Time =    0.02716  (0.00 / step)\n",
      "    163: E[hva] = -2.624911533538  <S**2> = +0.000000  Fidelity = 0.999992  Grad = 1.80e-03  CPU Time =    0.01382  (0.00 / step)\n",
      "    164: E[hva] = -2.624912017893  <S**2> = +0.000000  Fidelity = 0.999993  Grad = 1.34e-03  CPU Time =    0.01353  (0.00 / step)\n",
      "    165: E[hva] = -2.624912372005  <S**2> = +0.000000  Fidelity = 0.999993  Grad = 1.70e-03  CPU Time =    0.01348  (0.00 / step)\n",
      "    166: E[hva] = -2.624912787816  <S**2> = +0.000000  Fidelity = 0.999993  Grad = 1.60e-03  CPU Time =    0.01382  (0.00 / step)\n",
      "    167: E[hva] = -2.624913119709  <S**2> = +0.000000  Fidelity = 0.999993  Grad = 1.97e-03  CPU Time =    0.01321  (0.00 / step)\n",
      "    168: E[hva] = -2.624913442433  <S**2> = +0.000000  Fidelity = 0.999993  Grad = 1.21e-03  CPU Time =    0.01442  (0.00 / step)\n",
      "    169: E[hva] = -2.624913790080  <S**2> = +0.000000  Fidelity = 0.999994  Grad = 1.43e-03  CPU Time =    0.01419  (0.00 / step)\n",
      "    170: E[hva] = -2.624914147296  <S**2> = +0.000000  Fidelity = 0.999994  Grad = 1.82e-03  CPU Time =    0.01466  (0.00 / step)\n",
      "    171: E[hva] = -2.624914322987  <S**2> = +0.000000  Fidelity = 0.999994  Grad = 3.26e-03  CPU Time =    0.01443  (0.00 / step)\n",
      "    172: E[hva] = -2.624914813048  <S**2> = +0.000000  Fidelity = 0.999994  Grad = 1.23e-03  CPU Time =    0.01543  (0.00 / step)\n",
      "    173: E[hva] = -2.624915064072  <S**2> = +0.000000  Fidelity = 0.999994  Grad = 1.08e-03  CPU Time =    0.01431  (0.00 / step)\n",
      "    174: E[hva] = -2.624915371781  <S**2> = +0.000000  Fidelity = 0.999994  Grad = 2.35e-03  CPU Time =    0.01473  (0.00 / step)\n",
      "    175: E[hva] = -2.624915686353  <S**2> = +0.000000  Fidelity = 0.999994  Grad = 1.87e-03  CPU Time =    0.01383  (0.00 / step)\n",
      "    176: E[hva] = -2.624915935558  <S**2> = +0.000000  Fidelity = 0.999994  Grad = 1.23e-03  CPU Time =    0.01428  (0.00 / step)\n",
      "    177: E[hva] = -2.624916290593  <S**2> = +0.000000  Fidelity = 0.999993  Grad = 1.07e-03  CPU Time =    0.01430  (0.00 / step)\n",
      "    178: E[hva] = -2.624916660548  <S**2> = +0.000000  Fidelity = 0.999993  Grad = 1.33e-03  CPU Time =    0.01348  (0.00 / step)\n",
      "    179: E[hva] = -2.624917235709  <S**2> = +0.000000  Fidelity = 0.999993  Grad = 3.20e-03  CPU Time =    0.01364  (0.00 / step)\n",
      "    180: E[hva] = -2.624917940939  <S**2> = +0.000000  Fidelity = 0.999993  Grad = 2.11e-03  CPU Time =    0.01380  (0.00 / step)\n",
      "    181: E[hva] = -2.624918678700  <S**2> = +0.000000  Fidelity = 0.999994  Grad = 1.86e-03  CPU Time =    0.01329  (0.00 / step)\n",
      "    182: E[hva] = -2.624919628968  <S**2> = +0.000000  Fidelity = 0.999995  Grad = 3.06e-03  CPU Time =    0.01318  (0.00 / step)\n",
      "    183: E[hva] = -2.624920018221  <S**2> = +0.000000  Fidelity = 0.999995  Grad = 4.20e-03  CPU Time =    0.01322  (0.00 / step)\n",
      "    184: E[hva] = -2.624920494494  <S**2> = +0.000000  Fidelity = 0.999995  Grad = 1.68e-03  CPU Time =    0.01322  (0.00 / step)\n",
      "    185: E[hva] = -2.624920750769  <S**2> = +0.000000  Fidelity = 0.999995  Grad = 1.39e-03  CPU Time =    0.01360  (0.00 / step)\n",
      "    186: E[hva] = -2.624921017967  <S**2> = +0.000000  Fidelity = 0.999995  Grad = 1.76e-03  CPU Time =    0.01347  (0.00 / step)\n",
      "    187: E[hva] = -2.624921587193  <S**2> = +0.000000  Fidelity = 0.999995  Grad = 2.47e-03  CPU Time =    0.01339  (0.00 / step)\n",
      "    188: E[hva] = -2.624921950046  <S**2> = +0.000000  Fidelity = 0.999995  Grad = 2.87e-03  CPU Time =    0.02624  (0.00 / step)\n",
      "    189: E[hva] = -2.624922498829  <S**2> = +0.000000  Fidelity = 0.999995  Grad = 1.84e-03  CPU Time =    0.01409  (0.00 / step)\n",
      "    190: E[hva] = -2.624923169134  <S**2> = +0.000000  Fidelity = 0.999995  Grad = 2.06e-03  CPU Time =    0.01432  (0.00 / step)\n",
      "    191: E[hva] = -2.624924004145  <S**2> = +0.000000  Fidelity = 0.999995  Grad = 2.85e-03  CPU Time =    0.01392  (0.00 / step)\n",
      "    192: E[hva] = -2.624925246028  <S**2> = +0.000000  Fidelity = 0.999996  Grad = 2.77e-03  CPU Time =    0.01371  (0.00 / step)\n",
      "    193: E[hva] = -2.624926792471  <S**2> = +0.000000  Fidelity = 0.999996  Grad = 3.58e-03  CPU Time =    0.01374  (0.00 / step)\n",
      "    194: E[hva] = -2.624928045944  <S**2> = +0.000000  Fidelity = 0.999996  Grad = 2.03e-03  CPU Time =    0.01406  (0.00 / step)\n",
      "    195: E[hva] = -2.624928441312  <S**2> = +0.000000  Fidelity = 0.999996  Grad = 3.22e-03  CPU Time =    0.01385  (0.00 / step)\n",
      "    196: E[hva] = -2.624928997144  <S**2> = +0.000000  Fidelity = 0.999997  Grad = 1.88e-03  CPU Time =    0.01330  (0.00 / step)\n",
      "    197: E[hva] = -2.624929483905  <S**2> = +0.000000  Fidelity = 0.999997  Grad = 1.89e-03  CPU Time =    0.01369  (0.00 / step)\n",
      "    198: E[hva] = -2.624929857193  <S**2> = +0.000000  Fidelity = 0.999997  Grad = 1.49e-03  CPU Time =    0.01332  (0.00 / step)\n",
      "    199: E[hva] = -2.624930150668  <S**2> = +0.000000  Fidelity = 0.999997  Grad = 2.65e-03  CPU Time =    0.01346  (0.00 / step)\n",
      "    200: E[hva] = -2.624930279224  <S**2> = +0.000000  Fidelity = 0.999996  Grad = 4.08e-03  CPU Time =    0.01347  (0.00 / step)\n",
      "  Final: E[hva] = -2.624930279224  <S**2> = +0.000000  Fidelity = 0.999996  rho = 1 \n",
      "\n",
      "(hva state)\n",
      "   Basis           Coef\n",
      "| 000001 > : -0.0188 +0.2067i\n",
      "| 000010 > : +0.0158 -0.1728i\n",
      "| 000011 > : -0.0194 +0.2067i\n",
      "| 000101 > : -0.0214 +0.2334i\n",
      "| 000110 > : +0.0279 -0.3066i\n",
      "| 001000 > : +0.0160 -0.1723i\n",
      "| 010101 > : -0.0278 +0.3073i\n",
      "| 010110 > : +0.0334 -0.3655i\n",
      "| 011000 > : +0.0189 -0.2061i\n",
      "| 011100 > : -0.0340 +0.3657i\n",
      "| 011101 > : -0.0274 +0.3077i\n",
      "| 100100 > : -0.0275 +0.3072i\n",
      "| 100101 > : -0.0220 +0.2336i\n",
      "| 110000 > : -0.0188 +0.2062i\n",
      "\n",
      "VQE Done.\n"
     ]
    }
   ],
   "source": [
    "Hub.vqe()"
   ]
  },
  {
   "cell_type": "markdown",
   "metadata": {},
   "source": [
    "## (Example2) Modified Kitaev Hamiltonian\n",
    "This sample performs VQE with a modified Kitaev Hamiltonian and Hamiltonian Variational Ansatz of arXiv:2108.13375.\n",
    "\n",
    "```               \n",
    "  0           3 \n",
    "  Z \\   X   / Z\n",
    "      1 - 2  \n",
    "    Y |   |  Y\n",
    "      6 - 4  \n",
    "    /   X   \\\n",
    "  7 Z      Z  5 \n",
    "                \n",
    "\n",
    "  Eg = -4.0100  (TCz in Table I)\n",
    "  Eg = -4.2476  (TCz+h in Table I)\n",
    "```\n",
    "\n"
   ]
  },
  {
   "cell_type": "markdown",
   "metadata": {},
   "source": [
    "### (2.1) Define the modified Kitaev Hamiltonian"
   ]
  },
  {
   "cell_type": "code",
   "execution_count": 12,
   "metadata": {},
   "outputs": [],
   "source": [
    "### Define the modified Kitaev Hamiltonian ###\n",
    "### Parameters for TCz+h\n",
    "\n",
    "Jx = -0.1\n",
    "Jy = Jx\n",
    "Jz = -1\n",
    "hx = 0.05/np.sqrt(3)\n",
    "hy = hx \n",
    "hz = hx \n",
    "\n",
    "### User-defined Hamiltonian in the OpenFermion format.\n",
    "hamiltonian =f\"{Jx} [X1 X2] + {Jx} [X4 X6] \\\n",
    "             + {Jy} [Y1 Y6] + {Jy} [Y2 Y4] \\\n",
    "             + {Jz} [Z0 Z1] + {Jz} [Z2 Z3] + {Jz} [Z4 Z5] + {Jz} [Z6 Z7] \\\n",
    "             + {hx} [X0] + {hx} [X1] + {hx} [X2] + {hx} [X3] \\\n",
    "             + {hx} [X4] + {hx} [X5] + {hx} [X6] + {hx} [X7] \\\n",
    "             + {hy} [Y0] + {hy} [Y1] + {hy} [Y2] + {hy} [Y3] \\\n",
    "             + {hy} [Y4] + {hy} [Y5] + {hy} [Y6] + {hy} [Y7] \\\n",
    "             + {hz} [Z0] + {hz} [Z1] + {hz} [Z2] + {hz} [Z3] \\\n",
    "             + {hz} [Z4] + {hz} [Z5] + {hz} [Z6] + {hz} [Z7] \""
   ]
  },
  {
   "cell_type": "code",
   "execution_count": 13,
   "metadata": {},
   "outputs": [
    {
     "name": "stdout",
     "output_type": "stream",
     "text": [
      "Initial state is not supplied, so we use |0>.\n",
      "You may specify the initial state by one of the following ways:\n",
      "\n",
      "  Q.set(det='|0011>')\n",
      "for product state,\n",
      "  Q.set(det='0.5 * |0011> + 0.5 * |0101>')\n",
      "for entangled state, and\n",
      "  Q.init_state = QuantumState(Q.n_qubits)\n",
      "  ...\n",
      "to directly subsititute user-defined QuantumState to init_state.\n",
      "\n",
      "Simulation detail\n",
      "Hamiltonian:\n",
      "0.02886751345948129 [X0] +\n",
      "0.02886751345948129 [Y0] +\n",
      "0.02886751345948129 [Z0] +\n",
      "-1.0 [Z0 Z1] +\n",
      "0.02886751345948129 [X1] +\n",
      "-0.1 [X1 X2] +\n",
      "0.02886751345948129 [Y1] +\n",
      "-0.1 [Y1 Y6] +\n",
      "0.02886751345948129 [Z1] +\n",
      "0.02886751345948129 [X2] +\n",
      "0.02886751345948129 [Y2] +\n",
      "-0.1 [Y2 Y4] +\n",
      "0.02886751345948129 [Z2] +\n",
      "-1.0 [Z2 Z3] +\n",
      "0.02886751345948129 [X3] +\n",
      "0.02886751345948129 [Y3] +\n",
      "0.02886751345948129 [Z3] +\n",
      "0.02886751345948129 [X4] +\n",
      "-0.1 [X4 X6] +\n",
      "0.02886751345948129 [Y4] +\n",
      "0.02886751345948129 [Z4] +\n",
      "-1.0 [Z4 Z5] +\n",
      "0.02886751345948129 [X5] +\n",
      "0.02886751345948129 [Y5] +\n",
      "0.02886751345948129 [Z5] +\n",
      "0.02886751345948129 [X6] +\n",
      "0.02886751345948129 [Y6] +\n",
      "0.02886751345948129 [Z6] +\n",
      "-1.0 [Z6 Z7] +\n",
      "0.02886751345948129 [X7] +\n",
      "0.02886751345948129 [Y7] +\n",
      "0.02886751345948129 [Z7]\n",
      "Initial state:\n",
      "    Basis            Coef\n",
      "| 00000000 > : +1.0000 +0.0000i\n",
      "\n",
      "Need to define pauli_list:\n",
      "  Q.get_pauli_list(['X0', 'Y0', 'Z0', 'X1', 'Y1', 'Z1', 'X0 X1', 'X0 Y1', 'X0 Z1', 'Y0 X1', 'Y0 Y1', 'Y0 Z1', 'Z0 X1', 'Z0 Y1', 'Z0 Z1'])\n"
     ]
    }
   ],
   "source": [
    "### Either of the followings works\n",
    "BK = create(hamiltonian=QubitOperator(hamiltonian))\n",
    "#BK = create(hamiltonian=hamiltonian)"
   ]
  },
  {
   "cell_type": "markdown",
   "metadata": {},
   "source": [
    "### (2.2) Run `fci2qubit()` to determine the ground state"
   ]
  },
  {
   "cell_type": "code",
   "execution_count": 14,
   "metadata": {},
   "outputs": [
    {
     "name": "stdout",
     "output_type": "stream",
     "text": [
      "Running OpenFemrion's QubitDavidson.\n",
      "FCI in Qubits\n",
      "(FCI state : E = -4.24757473769705)\n",
      "    Basis            Coef\n",
      "| 11111111 > : -0.9965 +0.0000i\n",
      "\n"
     ]
    }
   ],
   "source": [
    "BK.fci2qubit()"
   ]
  },
  {
   "cell_type": "markdown",
   "metadata": {},
   "source": [
    "### (2.3) Manually define `pauli_list`\n",
    "If only `hamiltonian` is defined, `Quket` complains that there is no variational circuit.  \n",
    "We can provide either `ansatz` or `pauli_list` to construct a variational circuit.  \n",
    "Here, let us define `pauli_list` manually, which can be done by using option `pauli_list`.  \n",
    "  \n",
    "In a `QuketData` instance, the attribute `QuketData.pauli_list` is a list of `QubitOperator`s.  \n",
    "When specifying `pauli_list` as an option of `set()` or `create()`, it can be either `QubitOperator` or `str` (which will be converted)."
   ]
  },
  {
   "cell_type": "code",
   "execution_count": 15,
   "metadata": {},
   "outputs": [
    {
     "name": "stdout",
     "output_type": "stream",
     "text": [
      "Simulation detail\n",
      "Hamiltonian:\n",
      "0.02886751345948129 [X0] +\n",
      "0.02886751345948129 [Y0] +\n",
      "0.02886751345948129 [Z0] +\n",
      "-1.0 [Z0 Z1] +\n",
      "0.02886751345948129 [X1] +\n",
      "-0.1 [X1 X2] +\n",
      "0.02886751345948129 [Y1] +\n",
      "-0.1 [Y1 Y6] +\n",
      "0.02886751345948129 [Z1] +\n",
      "0.02886751345948129 [X2] +\n",
      "0.02886751345948129 [Y2] +\n",
      "-0.1 [Y2 Y4] +\n",
      "0.02886751345948129 [Z2] +\n",
      "-1.0 [Z2 Z3] +\n",
      "0.02886751345948129 [X3] +\n",
      "0.02886751345948129 [Y3] +\n",
      "0.02886751345948129 [Z3] +\n",
      "0.02886751345948129 [X4] +\n",
      "-0.1 [X4 X6] +\n",
      "0.02886751345948129 [Y4] +\n",
      "0.02886751345948129 [Z4] +\n",
      "-1.0 [Z4 Z5] +\n",
      "0.02886751345948129 [X5] +\n",
      "0.02886751345948129 [Y5] +\n",
      "0.02886751345948129 [Z5] +\n",
      "0.02886751345948129 [X6] +\n",
      "0.02886751345948129 [Y6] +\n",
      "0.02886751345948129 [Z6] +\n",
      "-1.0 [Z6 Z7] +\n",
      "0.02886751345948129 [X7] +\n",
      "0.02886751345948129 [Y7] +\n",
      "0.02886751345948129 [Z7]\n",
      "Initial state:\n",
      "    Basis            Coef\n",
      "| 11111111 > : +1.0000 +0.0000i\n",
      "\n",
      "user-defined pauli_list found.\n"
     ]
    }
   ],
   "source": [
    "# As an example, we take HVA but define it manually.\n",
    "pauli_list =['[X1 X2]', '[X4 X6]', '[Y1 Y6]', '[Y2 Y4]', \n",
    "             '[Z0 Z1]', '[Z2 Z3]', '[Z4 Z5]', '[Z6 Z7]', \n",
    "             '[X0]', '[X1]', '[X2]', '[X3]',\n",
    "             '[X4]', '[X5]', '[X6]', '[X7]',\n",
    "             '[Y0]', '[Y1]', '[Y2]', '[Y3]',\n",
    "             '[Y4]', '[Y5]', '[Y6]', '[Y7]',\n",
    "             '[Z0]', '[Z1]', '[Z2]', '[Z3]',\n",
    "             '[Z4]', '[Z5]', '[Z6]', '[Z7]',]\n",
    "# Additionally let us set other options.\n",
    "BK.set(pauli_list=pauli_list, layers=1, theta_guess=\"random\", det=\"|11111111>\")\n",
    "BK.initialize()"
   ]
  },
  {
   "cell_type": "markdown",
   "metadata": {},
   "source": [
    "#### Check `pauli_list` attribute."
   ]
  },
  {
   "cell_type": "code",
   "execution_count": 16,
   "metadata": {},
   "outputs": [
    {
     "data": {
      "text/plain": [
       "[1.0 [X1 X2],\n",
       " 1.0 [X4 X6],\n",
       " 1.0 [Y1 Y6],\n",
       " 1.0 [Y2 Y4],\n",
       " 1.0 [Z0 Z1],\n",
       " 1.0 [Z2 Z3],\n",
       " 1.0 [Z4 Z5],\n",
       " 1.0 [Z6 Z7],\n",
       " 1.0 [X0],\n",
       " 1.0 [X1],\n",
       " 1.0 [X2],\n",
       " 1.0 [X3],\n",
       " 1.0 [X4],\n",
       " 1.0 [X5],\n",
       " 1.0 [X6],\n",
       " 1.0 [X7],\n",
       " 1.0 [Y0],\n",
       " 1.0 [Y1],\n",
       " 1.0 [Y2],\n",
       " 1.0 [Y3],\n",
       " 1.0 [Y4],\n",
       " 1.0 [Y5],\n",
       " 1.0 [Y6],\n",
       " 1.0 [Y7],\n",
       " 1.0 [Z0],\n",
       " 1.0 [Z1],\n",
       " 1.0 [Z2],\n",
       " 1.0 [Z3],\n",
       " 1.0 [Z4],\n",
       " 1.0 [Z5],\n",
       " 1.0 [Z6],\n",
       " 1.0 [Z7]]"
      ]
     },
     "execution_count": 16,
     "metadata": {},
     "output_type": "execute_result"
    }
   ],
   "source": [
    "BK.pauli_list"
   ]
  },
  {
   "cell_type": "markdown",
   "metadata": {},
   "source": [
    "### (2.4) Run `vqe()`"
   ]
  },
  {
   "cell_type": "code",
   "execution_count": 17,
   "metadata": {},
   "outputs": [
    {
     "name": "stdout",
     "output_type": "stream",
     "text": [
      "      1: E[user-defined] = -4.237671956560  <S**2> = +0.000000  Fidelity = 0.996665  Grad = 2.72e-02  CPU Time =    0.03718  (0.00 / step)\n",
      "      2: E[user-defined] = -4.237765746208  <S**2> = +0.000000  Fidelity = 0.996736  Grad = 6.63e-03  CPU Time =    0.01040  (0.00 / step)\n",
      "      3: E[user-defined] = -4.237766345596  <S**2> = +0.000000  Fidelity = 0.996736  Grad = 5.71e-03  CPU Time =    0.00970  (0.00 / step)\n",
      "      4: E[user-defined] = -4.237768401639  <S**2> = +0.000000  Fidelity = 0.996736  Grad = 9.00e-05  CPU Time =    0.00946  (0.00 / step)\n",
      "      5: E[user-defined] = -4.237815472174  <S**2> = +0.000000  Fidelity = 0.996547  Grad = 8.74e-02  CPU Time =    0.08808  (0.00 / step)\n",
      "      6: E[user-defined] = -4.237815591531  <S**2> = +0.000000  Fidelity = 0.996542  Grad = 8.86e-02  CPU Time =    0.01927  (0.00 / step)\n",
      "      7: E[user-defined] = -4.237830311623  <S**2> = +0.000000  Fidelity = 0.996523  Grad = 9.33e-02  CPU Time =    0.00953  (0.00 / step)\n",
      "      8: E[user-defined] = -4.237942526040  <S**2> = +0.000000  Fidelity = 0.996302  Grad = 1.36e-01  CPU Time =    0.01856  (0.00 / step)\n",
      "      9: E[user-defined] = -4.238182457596  <S**2> = +0.000000  Fidelity = 0.996093  Grad = 1.73e-01  CPU Time =    0.00943  (0.00 / step)\n",
      "     10: E[user-defined] = -4.238856856308  <S**2> = +0.000000  Fidelity = 0.996373  Grad = 1.71e-01  CPU Time =    0.00972  (0.00 / step)\n",
      "     11: E[user-defined] = -4.240138581090  <S**2> = +0.000000  Fidelity = 0.996537  Grad = 1.96e-01  CPU Time =    0.01804  (0.00 / step)\n",
      "     12: E[user-defined] = -4.243652692914  <S**2> = +0.000000  Fidelity = 0.997947  Grad = 1.40e-01  CPU Time =    0.00992  (0.00 / step)\n",
      "     13: E[user-defined] = -4.244965593028  <S**2> = +0.000000  Fidelity = 0.998484  Grad = 8.04e-02  CPU Time =    0.01005  (0.00 / step)\n",
      "     14: E[user-defined] = -4.245379832006  <S**2> = +0.000000  Fidelity = 0.998564  Grad = 2.63e-02  CPU Time =    0.00997  (0.00 / step)\n",
      "     15: E[user-defined] = -4.245479083459  <S**2> = +0.000000  Fidelity = 0.998606  Grad = 1.50e-02  CPU Time =    0.00968  (0.00 / step)\n",
      "     16: E[user-defined] = -4.245546276752  <S**2> = +0.000000  Fidelity = 0.998624  Grad = 1.54e-02  CPU Time =    0.00953  (0.00 / step)\n",
      "     17: E[user-defined] = -4.245918090200  <S**2> = +0.000000  Fidelity = 0.998709  Grad = 2.60e-02  CPU Time =    0.00936  (0.00 / step)\n",
      "     18: E[user-defined] = -4.246619237474  <S**2> = +0.000000  Fidelity = 0.998837  Grad = 6.78e-02  CPU Time =    0.00949  (0.00 / step)\n",
      "     19: E[user-defined] = -4.247095328414  <S**2> = +0.000000  Fidelity = 0.998984  Grad = 4.22e-02  CPU Time =    0.00937  (0.00 / step)\n",
      "     20: E[user-defined] = -4.247399986161  <S**2> = +0.000000  Fidelity = 0.999073  Grad = 1.78e-02  CPU Time =    0.00947  (0.00 / step)\n",
      "     21: E[user-defined] = -4.247420980033  <S**2> = +0.000000  Fidelity = 0.999077  Grad = 1.59e-02  CPU Time =    0.00944  (0.00 / step)\n",
      "     22: E[user-defined] = -4.247436737346  <S**2> = +0.000000  Fidelity = 0.999082  Grad = 2.02e-03  CPU Time =    0.00943  (0.00 / step)\n",
      "     23: E[user-defined] = -4.247437470056  <S**2> = +0.000000  Fidelity = 0.999082  Grad = 1.15e-03  CPU Time =    0.00940  (0.00 / step)\n",
      "     24: E[user-defined] = -4.247438054179  <S**2> = +0.000000  Fidelity = 0.999083  Grad = 1.07e-03  CPU Time =    0.00937  (0.00 / step)\n",
      "     25: E[user-defined] = -4.247443380221  <S**2> = +0.000000  Fidelity = 0.999084  Grad = 2.70e-03  CPU Time =    0.00936  (0.00 / step)\n",
      "     26: E[user-defined] = -4.247444316729  <S**2> = +0.000000  Fidelity = 0.999084  Grad = 3.03e-03  CPU Time =    0.01767  (0.00 / step)\n",
      "     27: E[user-defined] = -4.247445274464  <S**2> = +0.000000  Fidelity = 0.999084  Grad = 9.24e-04  CPU Time =    0.00935  (0.00 / step)\n",
      "     28: E[user-defined] = -4.247445339263  <S**2> = +0.000000  Fidelity = 0.999084  Grad = 3.19e-04  CPU Time =    0.00971  (0.00 / step)\n",
      "     29: E[user-defined] = -4.247445347502  <S**2> = +0.000000  Fidelity = 0.999084  Grad = 6.06e-05  CPU Time =    0.00948  (0.00 / step)\n",
      "     30: E[user-defined] = -4.247445347764  <S**2> = +0.000000  Fidelity = 0.999084  Grad = 9.54e-06  CPU Time =    0.00942  (0.00 / step)\n",
      "  Final: E[user-defined] = -4.247445347764  <S**2> = +0.000000  Fidelity = 0.999084  rho = 1 \n",
      "\n",
      "(user-defined state)\n",
      "    Basis            Coef\n",
      "| 11111111 > : -0.0001 +0.9971i\n",
      "\n",
      "VQE Done.\n"
     ]
    }
   ],
   "source": [
    "BK.vqe()"
   ]
  },
  {
   "cell_type": "markdown",
   "metadata": {},
   "source": [
    "#### There does not seem to be any symmetry in the modified Kitaev Hamiltonian, \n",
    "#### and hence `taper_off()` does nothing."
   ]
  },
  {
   "cell_type": "code",
   "execution_count": 18,
   "metadata": {},
   "outputs": [
    {
     "name": "stdout",
     "output_type": "stream",
     "text": [
      "Tapering-Off Results:\n",
      "List of Tapered-off Qubits:  None\n",
      "\n",
      "No qubits to be tapered-off. No transformation done\n"
     ]
    }
   ],
   "source": [
    "BK.taper_off()"
   ]
  },
  {
   "cell_type": "code",
   "execution_count": null,
   "metadata": {},
   "outputs": [],
   "source": []
  }
 ],
 "metadata": {
  "kernelspec": {
   "display_name": "Python 3 (ipykernel)",
   "language": "python",
   "name": "python3"
  },
  "language_info": {
   "codemirror_mode": {
    "name": "ipython",
    "version": 3
   },
   "file_extension": ".py",
   "mimetype": "text/x-python",
   "name": "python",
   "nbconvert_exporter": "python",
   "pygments_lexer": "ipython3",
   "version": "3.9.12"
  }
 },
 "nbformat": 4,
 "nbformat_minor": 4
}
